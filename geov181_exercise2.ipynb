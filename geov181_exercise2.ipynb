{
 "cells": [
  {
   "cell_type": "markdown",
   "metadata": {
    "id": "zmCduDQGp_X-"
   },
   "source": [
    "---\n",
    "\n",
    "# Exercise 2: Analysis of global earthquake data\n",
    "\n",
    "\n",
    "# Introduction to the subsurface\n",
    "\n",
    "In module 1 of this course you have looked at data from the Earth's surface. These data are two-dimensional, which means that you need two coordinates to find any of these data (x and y, or latitude and longitude). In exercise 1a and 1b in this module (module 2) we introduced a new \"coordinate\", which is time, and we used timeseries data to study Earth's climate history. In this exercise we will work with data that has three dimensions, an x and y coordinate to locate our place on the surface of the Earth, and depth, which defines how deep below the surface our datapoints are located.\n",
    "\n",
    "Studying the earth below our feet is an important part of the earth sciences. The subsurface, surface and atmosphere of our planet influence each other and are linked together in one system. Studying the subsurface is important for many applications, such as CO2 storage, geothermal energy, mineral resources, and for geohazards, such as earthquakes that we will discuss today.\n",
    "\n",
    "The main methods that researchers use to study the subsurface are boreholes and geophysical data, such as seismic data or georadar, which can generate images of the subsurface. See for example the seismic image of a part of the North Sea below. Boreholes provide direct access to a small part of the subsurface, and samples from boreholes provide us with a lot of information, including the paleoclimate data that you studied in exercise 1b.\n",
    "\n",
    "<img src=\"https://www.uib.no/sites/w3.uib.no/files/styles/content_main_wide_1x/public/media/seismic_section_nvg_22_june_2022.jpg?itok=IPO_3A7T&timestamp=1656012298\" width=\"600\" />\n",
    "\n",
    "*Example of a seismic image of the subsurface in the North Sea. Source: https://www.uib.no/en/rg/gbs/155225/high-displacement-faults-project*\n",
    "\n",
    "\n",
    "## Earthquakes\n",
    "\n",
    "One indirect but very useful source of information on the subsurface is earthquakes. Earthquakes are [\"the shaking of the Earth's surface resulting from a sudden release of energy in the lithosphere that creates seismic waves\"](https://en.wikipedia.org/wiki/Earthquake). You will probably have heard about or seen earthquakes in the news, such as the devastating [earthquake in Turkey and Syria](https://en.wikipedia.org/wiki/2023_Turkey%E2%80%93Syria_earthquakes) in 2023. Earthquakes are a major hazard, and studying earthquakes will hopefully help to be prepared and to miminize the damage caused by these quakes.\n",
    "\n",
    "Most earthquakes are caused by the natural movement of different blocks of the earth's subsurface relative to each other. This movement is often not smooth, but occurs in small jumps that create earthquakes.\n",
    "\n",
    "Earthquakes have a lot to teach us about how our planet works. The arrival times of seismic waves from an earthquake at different seismic stations on the surface provides us with the means to triangulate and locate these earthquakes. The reconstruction of the seismic wave paths and velocities has provided us with information on the structure of the earth, such as the fact that the [earth's subsurface contains different layers](https://en.wikipedia.org/wiki/Internal_structure_of_Earth), like the crust, the mantle and a core. You can learn more on this later in the exercise.\n",
    "\n",
    "The department of Earth Science at our university is very active in geophysics and the study of earthquakes (also known as seismology), and hosts the Norwegian National Seismic Network. You can read more about their activities here: https://www.uib.no/en/rg/geophysics/54014/earthquake-seismology, or look at recent earthquakes in Norway and surrounding areas here: https://nnsn.geo.uib.no/nnsn/#/\n",
    "\n",
    "<img src=\"https://riskfrontiers.com/wp-content/uploads/2023/02/Picture8.jpg\" width=\"500\" />\n",
    "\n",
    "*Example of ground displacement by the 2023 Turkey/Syria earthquake. Source: https://riskfrontiers.com*\n",
    "\n",
    "<img src=\"https://www.isc.ac.uk/images/isclocatedevents.png\" width=\"500\" />\n",
    "\n",
    "\n",
    "*Global earthquake locations (source: ICS). We will work with similar data in this exercise*\n",
    "\n",
    "## This exercise\n",
    "\n",
    "In this exercise we will visualize and analyse a large database of all global earthquakes that have magnitude 5 or higher. The data are from [the international seismological centre](https://www.isc.ac.uk/). To analyse these data we will use new new mapping tools in Python, and new statistical analysis to see if two datasets are statistically different or not. Similarly to exercise 1b, we will try to use the data and our analyses to answer a set of research questions.\n",
    "\n",
    "\n",
    "## Assignments and handing in this exercise\n",
    "\n",
    "This exercise contains assignments, where you will have to either complete some Python code or write text in a text block. Please hand in the assignment by modifying this notebook and handing in the completed notebook file on mitt.uib. You can download the notebook by selecting File > Download > Download .ipynb."
   ]
  },
  {
   "cell_type": "markdown",
   "metadata": {
    "id": "uUm7Ri30zuVZ"
   },
   "source": [
    "---\n",
    "\n",
    "# Research questions\n",
    "\n",
    "In this exercise we will try to answer the following research questions:\n",
    "\n",
    "1. What is the spatial and depth distribution of earthquakes globally, and how is the magnitude distributed?\n",
    "2. What is the relation between the location of plate boundaries and earthquakes?\n",
    "3. How do the different types of plate boundaries affect the depth, magnitude and spatial distribution of earthquakes?\n",
    "4. What is the relation between the crust and lithosphere and the distribution of earthquakes?\n",
    "\n",
    "We will spend the next few sections visualizing and analysing earthquake data. The results will enable us to answer the research questions above."
   ]
  },
  {
   "cell_type": "markdown",
   "metadata": {
    "id": "K97Ir1l7zgvq"
   },
   "source": [
    "---\n",
    "\n",
    "# Section 1: Obtaining and visualizing global earthquake data"
   ]
  },
  {
   "cell_type": "markdown",
   "metadata": {
    "id": "8UyTJI-q2ha8"
   },
   "source": [
    "First we will start by loading the Python modules that we need"
   ]
  },
  {
   "cell_type": "code",
   "execution_count": null,
   "metadata": {
    "id": "qq9RUmBo2n0H"
   },
   "outputs": [],
   "source": [
    "import itertools\n",
    "import numpy as np\n",
    "import pandas as pd\n",
    "import geopandas as gpd\n",
    "import matplotlib.pyplot as pl"
   ]
  },
  {
   "cell_type": "markdown",
   "metadata": {
    "id": "6-wcleGy2vDv"
   },
   "source": [
    "We also need a few additional modules. We need something to make nice maps, which can be done using the module [cartopy](https://scitools.org.uk/cartopy/docs/latest/). In addition we will install [a module](https://www.fabiocrameri.ch/colourmaps/) that provides us with nicer colors. The code block below installs this:"
   ]
  },
  {
   "cell_type": "code",
   "execution_count": null,
   "metadata": {
    "colab": {
     "base_uri": "https://localhost:8080/"
    },
    "id": "zRLISApg2uSQ",
    "outputId": "c03b1103-4c54-4376-854a-58ef96e80a79"
   },
   "outputs": [],
   "source": [
    "# install the cartopy module, for making nice maps\n",
    "!pip install -q cartopy\n",
    "!pip install -q cmcrameri\n",
    "\n",
    "import cartopy.crs as ccrs\n",
    "from cmcrameri import cm"
   ]
  },
  {
   "cell_type": "markdown",
   "metadata": {
    "id": "wcPg2CNd7ryi"
   },
   "source": [
    "Next we will download global earthquake data from the [International Seismological Centre](http://www.isc.ac.uk/iscgem/). We will restrict ourselves to large earthquakes with magnitude 5 or higher."
   ]
  },
  {
   "cell_type": "code",
   "execution_count": null,
   "metadata": {
    "colab": {
     "base_uri": "https://localhost:8080/"
    },
    "id": "soS1rJus23gG",
    "outputId": "c85b9caf-69b0-4451-89de-e2597b06dc31"
   },
   "outputs": [],
   "source": [
    "# specify the file location of the earthquake data:\n",
    "global_earthquake_file = \"https://github.com/ElcoLuijendijk/intro_earth_science_informatics/raw/refs/heads/main/data/earthquakes_global_ics.csv\"\n",
    "\n",
    "# read the global earthquake datafile\n",
    "df = pd.read_csv(global_earthquake_file)\n",
    "\n",
    "# convert earthquake dataset to a geodataframe (a dataframe with coordinates)\n",
    "gdf = gpd.GeoDataFrame(geometry=gpd.points_from_xy(df.lon, df.lat, crs=\"EPSG:4326\"), data=df)"
   ]
  },
  {
   "cell_type": "markdown",
   "metadata": {
    "id": "-IHM8Qaa8xQ6"
   },
   "source": [
    "Let's have a look at the data:"
   ]
  },
  {
   "cell_type": "code",
   "execution_count": null,
   "metadata": {
    "colab": {
     "base_uri": "https://localhost:8080/",
     "height": 424
    },
    "id": "fWJMrLPY8vN7",
    "outputId": "a97a05b1-4c0a-4ead-962d-4b673c397df0"
   },
   "outputs": [],
   "source": [
    "gdf"
   ]
  },
  {
   "cell_type": "markdown",
   "metadata": {
    "id": "cfU-HjH982rz"
   },
   "source": [
    "The data that we loaded is now a [dataframe](https://pandas.pydata.org/pandas-docs/stable/reference/api/pandas.DataFrame.html), which is a convenient way to work with data in Python, and is in effect a type of excel sheet or data table in Python. The dataframe is called `gdf`, and you can access each column like this `gdf[\"lat\"]` for the column called lat, `gdf[\"depth\"]` for the column named depth, and so on. We will use this to to calculations, and make figures of the values in these columns. \n",
    "\n",
    "There's quite a few data columns in the file above, but the most important ones are there, latitude (`lat`), longitude (`lon`) and depth below the surface (`depth`), which means that we have all the coordinates that we need to locate the data. Let's get started with our data analysis"
   ]
  },
  {
   "cell_type": "markdown",
   "metadata": {
    "id": "SQq5SJIvzyyd"
   },
   "source": [
    "---\n",
    "\n",
    "# Section 2: The location, depth and magntiude of global earthquakes\n",
    "\n",
    "Now that we have the data we can get going with analysing global earthquakes. First let's make a nice map of the earthquake locations and their magnitude.\n",
    "\n",
    "However, before we start, let's first pick a colormap, i.e. a set of colors to make our figures. The standard colors in Python and matplotlib are nice, but there are much nicer colormaps available. We will use use a colormap from this collection: https://www.fabiocrameri.ch/colourmaps/ \n",
    "\n",
    "In addition, as you learned in Module 1, for each map that we make we need to define a projection, which specifies how we go from data on a round earth to a flat screen or piece of paper. In this case we will use the [Robinson projection](https://en.wikipedia.org/wiki/Robinson_projection). If you want to try out some alternative options, you can look here: https://scitools.org.uk/cartopy/docs/v0.15/crs/projections.html"
   ]
  },
  {
   "cell_type": "code",
   "execution_count": null,
   "metadata": {},
   "outputs": [],
   "source": [
    "# pick a colormap, see https://www.fabiocrameri.ch/colourmaps/ for options\n",
    "cmap = cm.imola\n",
    "\n",
    "# choose a map projection, see here for some options: https://scitools.org.uk/cartopy/docs/v0.15/crs/projections.html\n",
    "proj = ccrs.Robinson()"
   ]
  },
  {
   "cell_type": "markdown",
   "metadata": {},
   "source": [
    "Next, lets get going with making a map of the global earthquake data:"
   ]
  },
  {
   "cell_type": "code",
   "execution_count": null,
   "metadata": {
    "colab": {
     "base_uri": "https://localhost:8080/",
     "height": 351
    },
    "id": "9p8SIYhK-Nct",
    "outputId": "02d025c9-e531-4b8a-a6c2-a6fc6bfdb6eb"
   },
   "outputs": [],
   "source": [
    "# make a figure and axis with the specified projection\n",
    "fig = pl.figure(figsize=(10, 6))\n",
    "ax = pl.axes(projection=proj)\n",
    "\n",
    "# add a background image\n",
    "ax.stock_img()\n",
    "\n",
    "# sort the earthquakes by magnitude, so that the larger ones are plotted on top of the smaller ones\n",
    "gdf_sort = gdf.sort_values(by=\"mw\")\n",
    "\n",
    "# plot all the earthquakes, with a color and size related to their magnitude\n",
    "eq_plot = ax.scatter(gdf_sort.geometry.x.values, gdf_sort.geometry.y.values,\n",
    "                     c=gdf_sort[\"mw\"].values, cmap=cmap, edgecolor=\"black\",\n",
    "                     lw=0.25, s=gdf_sort[\"mw\"].values **1.5,\n",
    "                     transform=ccrs.PlateCarree(), alpha=0.5)\n",
    "\n",
    "# add a colorbar, based on the colormap of the earthquake plot\n",
    "mappable = ax.collections[0]\n",
    "cb = fig.colorbar(eq_plot, shrink=0.5)\n",
    "cb.set_label(\"Seismic moment magnitude (Mw)\")"
   ]
  },
  {
   "cell_type": "markdown",
   "metadata": {
    "id": "AogPwaXH_dLl"
   },
   "source": [
    "As you can see in the result, the earthquakes line up suspiciously along lines in the ocean and along edges of the continents. We will get back to this below."
   ]
  },
  {
   "cell_type": "markdown",
   "metadata": {
    "id": "Oc23eJwt_qmK"
   },
   "source": [
    "But first lets have a look at the magnitude of the earthquakes. You may have heard mention of earthquake magnitudes in the news. There are different magnitude scales, but the one that we will use here is the [seismic moment magnitude scale](https://en.wikipedia.org/wiki/Moment_magnitude_scale), which is the generally accepted scale in research. This scale replaces the older Richter scale for the magnitude of earthquakes that you may have heard about. Let's look at the distribution of global earthquakes:"
   ]
  },
  {
   "cell_type": "code",
   "execution_count": null,
   "metadata": {
    "colab": {
     "base_uri": "https://localhost:8080/",
     "height": 467
    },
    "id": "qlsMBtpz_6wT",
    "outputId": "6fbbabba-95fd-401a-9734-6dfd0c9fe6af"
   },
   "outputs": [],
   "source": [
    "# create a figure with one subplot\n",
    "fig, ax = pl.subplots(1, 1)\n",
    "\n",
    "# create a histogram of the earthquake magnitudes\n",
    "h = ax.hist(gdf[\"mw\"], bins=30)\n",
    "\n",
    "# add labels\n",
    "ax.set_xlabel(\"Seismic moment magnitude\")\n",
    "ax.set_ylabel(\"Number of earthquakes\")"
   ]
  },
  {
   "cell_type": "markdown",
   "metadata": {
    "id": "0wpUljRXRzNw"
   },
   "source": [
    "And finally let's have a look at the third dimension, depth, to get an idea at what depth most earthquakes originate. We will first plot a figure of the depth of the global earthquake data:"
   ]
  },
  {
   "cell_type": "code",
   "execution_count": null,
   "metadata": {
    "colab": {
     "base_uri": "https://localhost:8080/",
     "height": 388
    },
    "id": "QTAfZiPHP1FN",
    "outputId": "6536bcad-7c59-4bde-ddfd-02b62e57a2a7"
   },
   "outputs": [],
   "source": [
    "fig = pl.figure(figsize=(10, 6))\n",
    "ax = pl.axes(projection=proj)\n",
    "\n",
    "ax.stock_img()\n",
    "\n",
    "gdf_sort = gdf.sort_values(by=\"depth\", ascending=True)\n",
    "\n",
    "eq_plot = ax.scatter(gdf_sort.geometry.x.values, gdf_sort.geometry.y.values,\n",
    "                     c=np.log10(gdf_sort[\"depth\"].values), cmap=cmap, edgecolor=\"black\",\n",
    "                     lw=0.25, s=20,\n",
    "                     transform=ccrs.PlateCarree(), alpha=0.5)\n",
    "\n",
    "mappable = ax.collections[0]\n",
    "cb = fig.colorbar(eq_plot, shrink=0.5)\n",
    "cb.set_label(\"log10(depth (km))\")"
   ]
  },
  {
   "cell_type": "markdown",
   "metadata": {
    "id": "mJRsmTkzR_nD"
   },
   "source": [
    "Note that we have log-transformed depth in the figure above, to better visualize the distribution. We use a base 10 [logarithm](https://en.wikipedia.org/wiki/Logarithm) (logaritme med grunntal 10). Just to remind you: The base 10 logarithm of 10 equals 1, for 100 it equals 2, $\\log_{10}(1000) = 3$, and so on.\n",
    "\n",
    "And next, we look at the distribution of global earthquake depths:"
   ]
  },
  {
   "cell_type": "code",
   "execution_count": null,
   "metadata": {
    "colab": {
     "base_uri": "https://localhost:8080/",
     "height": 504
    },
    "id": "d6k3Mw25P1wZ",
    "outputId": "c50ebf0d-348c-455e-efd9-4e3f6e15a34f"
   },
   "outputs": [],
   "source": [
    "# take the logarithm of the depth values, but set depth=0 to NaN (we cannot take the log of 0)\n",
    "# to avoid issues with plotting\n",
    "# (this will just not plot the earthquakes with depth=0)\n",
    "log_depth = np.log10(gdf[\"depth\"])\n",
    "log_depth[gdf[\"depth\"] == 0] = np.nan\n",
    "\n",
    "# create a figure with one subplot\n",
    "fig, ax = pl.subplots(1, 1)\n",
    "\n",
    "# create a histogram of the logarithm of the earthquake depths\n",
    "ax.hist(log_depth, bins=50)\n",
    "\n",
    "# add labels\n",
    "ax.set_xlabel(\"log10(depth (km))\")\n",
    "ax.set_ylabel(\"Number of earthquakes\")\n",
    "\n",
    "ax.set_xlim(0.5, 3.0)"
   ]
  },
  {
   "cell_type": "markdown",
   "metadata": {
    "id": "E4aMlNUNzzVV"
   },
   "source": [
    "---\n",
    "\n",
    "# Section 3: Plate tectonics and earthquakes\n",
    "\n",
    "\n",
    "## Introduction: plate tectonics\n",
    "\n",
    "[Plate tectonics](https://en.wikipedia.org/wiki/Plate_tectonics) is arguably the latest major scientific advance in the natural sciences. It took its final form in the 1950s and 1960s, and is therefore younger than other major new theories in the 20th century, such as general and special relativity, quantum mechanics and quantum field theory. It revolutionized geology and all of a sudden made it possible to make sense of the way the earth looks, why there are deep ocean trenches, sedimentary basins, mountain belts and so on.\n",
    "\n",
    "Before plate tectonics geologist had come up with several complicated theories to explain what they observed. A popular idea was the [expanding earth theory](https://en.wikipedia.org/wiki/Expanding_Earth), which proposed that earth was continuously expanding to explain the creation of new ocean crust at spreading ridges. Other geologist working in mountain belts had proposed a [shrinking earth](https://en.wikipedia.org/wiki/Geophysical_global_cooling) instead, to explain why the rocks there had been shoved on top of each other. These two theories obviously do not work well together.\n",
    "\n",
    "Arguably the paper that finally put together all the pieces of the puzzle of plate tectonics to explain sea floor spreading, the subduction and the collision of plates and the formation of mountain belts is the paper [Rises, trenches, great faults, and crustal blocks](https://doi.org/10.1029/JB073i006p01959) by Jason Morgan in 1968, who proposed that the outer shell of the earth consists of several rigid plates that move away from each other at ocean ridges, towards each other at collision or subduction zones, and along each other at transform zones.\n",
    "\n",
    "The development of plate tectonics started much earlier with the theory of continental drift proposed by several scientist in the late 19th and early 20th century, perhaps the most well known is Alfred Wegener. Maps and data of ocean ridges in the 1960 proved that new crust is generated there by magma and that each side of the ridge moves apart slowly, such as the map by Heezen and Tharp below.\n",
    "\n",
    "The history of plate tectonics is fascinating, if you want to read more about this I can warmly recommend the book \"Plate Tectonics: An Insider's History Of The Modern Theory Of The Earth\" by Naomi Oreskes, with a nice summary [here](https://doi.org/10.1038/501027a)\n",
    "\n",
    "<img src=\"https://images.theconversation.com/files/349478/original/file-20200726-29-189de0o.jpg?ixlib=rb-4.1.0&rect=31%2C4%2C2968%2C1715&q=45&auto=format&w=1000&fit=clip\" width=\"400\" />\n",
    "\n",
    "*Hand-painted rendition of Heezen-Tharp 1977 World ocean floor map, by Heinrich Berann. Library of Congress, Geography and Map Division, CC BY-ND*\n",
    "\n",
    "<img src=\"https://upload.wikimedia.org/wikipedia/commons/thumb/6/67/Tectonic_plates_%282022%29.svg/800px-Tectonic_plates_%282022%29.svg.png\" width=\"400\" />\n",
    "\n",
    "*Our current understanding of the major tectonic plates on our planet. Source: Wikipedia, based on [Hasterok et al. (2022)](https://doi.org/10.1016/j.earscirev.2022.104069)*\n",
    "\n",
    "\n",
    "<img src=\"https://www.researchgate.net/profile/G-Scalera/publication/270395664/figure/fig1/AS:669490312388614@1536630337284/The-Workshop-poster-graphic-design-by-Barbara-Angioni-of-the-INGV-Graphics-Lab_W640.jpg\" width=\"200\" />\n",
    "\n",
    "*Interestingly, even though it was falsified, the expanding Earth theory was still alive and had a handful of followers a decade ago*\n"
   ]
  },
  {
   "cell_type": "markdown",
   "metadata": {
    "id": "CEPM6GOuzyGK"
   },
   "source": [
    "## 3.1 Getting plate boundary data\n",
    "\n",
    "Now that we have learned about plate tectonics, we will try and see how earthquakes are connected with tectonic plates. To analyze this we will use data on the location and type of plate boundaries from a recent paper by [Hasterok et al. (2022)](https://doi.org/10.1016/j.earscirev.2022.104069). These authors were so friendly as to share their data online [here](https://zenodo.org/records/6586972). We will download the plate boundary file below:"
   ]
  },
  {
   "cell_type": "code",
   "execution_count": null,
   "metadata": {
    "id": "T7Vz4kypsTxw"
   },
   "outputs": [],
   "source": [
    "plate_bnd_file = \"https://github.com/ElcoLuijendijk/intro_earth_science_informatics/raw/refs/heads/main/data/plate_boundaries.shp\"\n",
    "\n",
    "# read plate boundary file\n",
    "plate_bnd = gpd.read_file(plate_bnd_file)\n",
    "\n",
    "# select sinsitral and dextral transform plate bnds and rename them to transform\n",
    "idx = (plate_bnd[\"type\"] == \"dextral transform\") | (plate_bnd[\"type\"] == \"sinistral transform\")\n",
    "plate_bnd.loc[idx, \"type\"] = \"transform\""
   ]
  },
  {
   "cell_type": "markdown",
   "metadata": {
    "id": "ei5LuxNOAuf_"
   },
   "source": [
    "Let's plot the plate boundaries that we have just loaded:"
   ]
  },
  {
   "cell_type": "code",
   "execution_count": null,
   "metadata": {
    "id": "zLdFT2NcA48y"
   },
   "outputs": [],
   "source": [
    "plate_bnd[\"colors\"] = \"tab:orange\"\n",
    "\n",
    "\n",
    "fig = pl.figure(figsize=(10, 6))\n",
    "ax = pl.axes(projection=proj)\n",
    "\n",
    "ax.stock_img()\n",
    "\n",
    "plate_bnd_plot = plate_bnd.plot(\"type\", ax=ax, zorder=1, lw=2.0,\n",
    "                                transform=ccrs.PlateCarree(), legend=True,\n",
    "                                legend_kwds={\"ncol\": 2, \"loc\": \"lower center\"})"
   ]
  },
  {
   "cell_type": "markdown",
   "metadata": {
    "id": "dE5mriAXCbkw"
   },
   "source": [
    "## 3.2 Types of plate boundary\n",
    "\n",
    "Above you can see the tectonic plates, and several different types of boundaries between these plates. The different plate boundaries are briefly explained below:\n",
    "\n",
    "* Collision zone: This is the collision zone (convergent boundary) between two continental plates. Plates move towards each other.\n",
    "* Extension zone: A zone where a plate is extended (stretched) but where the extension has not yet gone far enough to create new oceanic crust\n",
    "* Spreading centre: A location where a plate that consists of oceanic crust moves apart and the gap is filled by magma that forms new oceanic crust\n",
    "* Subduction zone: A zone where one tectonic plate subducts (sinks) below another\n",
    "* Transform: A zone where two plates move past one another. A famous example is the [San Andreas fault](https://en.wikipedia.org/wiki/San_Andreas_Fault)\n",
    "* Inferred: An unknown plate boundary\n",
    "\n",
    "These different boundaries are illustrated in the drawings below:\n",
    "\n",
    "<img src=\"https://cdn.britannica.com/34/3534-050-E46D8524/crust-Oceanic-destruction-theory-Production-Earth-plate.jpg\" width=\"400\" />\n",
    "\n",
    "*Overview of subduction zones and oceanic ridges (or spreading centres). Source: https://www.britannica.com/science/subduction-zone*\n",
    "\n",
    "<img src=\"https://upload.wikimedia.org/wikipedia/commons/8/83/Continental-continental_convergence_Fig21contcont.gif\" width=\"300\" />\n",
    "\n",
    "*Diagram showing a collission zone between two continental plates, source: https://en.wikipedia.org/wiki/Continental_collision*\n",
    "\n",
    "<img src=\"https://www.nps.gov/subjects/geology/images/transform-shear-zone-10x.jpg?maxwidth=650&autorotate=false&quality=78&format=webp\" width=\"300\" />\n",
    "\n",
    "*Overview of a transform boundary or fault, see https://en.wikipedia.org/wiki/Transform_fault*\n",
    "\n",
    "\n"
   ]
  },
  {
   "cell_type": "markdown",
   "metadata": {
    "id": "SaTy-Z6eGUwi"
   },
   "source": [
    "## 3.3 Distance of earthquakes to plate boundaries\n",
    "\n",
    "The first relation between earthquakes and plate boundaries that we will look at is the distance between these two.\n",
    "\n",
    "The plate boundary and earthquake data that we use have coordinates specified in degrees latitude and longitude. However, the distance that we would like to calculate should have units of meters or kilometers.\n",
    "\n",
    "Here we use a fast, but somewhat inaccurate method to calculate the distance between the earthquakes and the plate boundaries. In the code blocks below we first calculate the distance in degrees latitude and longitude. We then convert this distance to units of km. We could do this more correctly and project our data to an [equal area projection](https://en.wikipedia.org/wiki/Equal-area_projection), where the coordinates have units of meters instead of degrees. Unfortunately, this turns out to be too slow in Google Colab, so we use the faster method instead.\n",
    "\n",
    "<img src=\"https://www.geographyrealm.com/wp-content/uploads/2023/11/latitude-longitude-globes.jpg\" width=\"600\" />\n",
    "\n",
    "*An explanation of latitude and longitude. Note that a degree longitude is a much longer distance near the equator than near the north or south pole. Source: https://www.geographyrealm.com/x-longitude-y-latitude/*\n",
    "\n"
   ]
  },
  {
   "cell_type": "markdown",
   "metadata": {
    "id": "9ExG9XUeRBXj"
   },
   "source": [
    "We will first calculate the distances between all earthquake points and plate boundaries in degrees:"
   ]
  },
  {
   "cell_type": "code",
   "execution_count": null,
   "metadata": {
    "colab": {
     "base_uri": "https://localhost:8080/"
    },
    "id": "sNBkBa-UGdmK",
    "outputId": "911bbd46-890d-4dd2-8269-c9f3c226c203"
   },
   "outputs": [],
   "source": [
    "import warnings\n",
    "warnings.filterwarnings('ignore')\n",
    "\n",
    "import time\n",
    "\n",
    "# we will record the time it takes to run the distance calculations\n",
    "start = time.time()\n",
    "\n",
    "# subsample the earthquake dataset, keep one in five datapoints:\n",
    "gdf = gdf[::5]\n",
    "\n",
    "# set up an array to store the results\n",
    "neq = gdf.shape[0]\n",
    "n_bnds = plate_bnd.shape[0]\n",
    "ds = np.ones((neq, n_bnds)) * 1e9\n",
    "#ds_ll = np.ones((neq, n_bnds)) * 1e9\n",
    "\n",
    "# go through all plate boundary segments:\n",
    "print(\"Going through all plate boundary segments\")\n",
    "print(\"Note that this may take a few minutes. Feel free to get a coffee or tea.\")\n",
    "print(\"\")\n",
    "\n",
    "# go through each of the plate boundary segments\n",
    "for i, pb in enumerate(plate_bnd.geometry[:]):\n",
    "\n",
    "  # report to screen each 25 steps\n",
    "  if i / 25.0 == i // 25.0:\n",
    "    print(f\"processing {i+1} of {len(plate_bnd)} plate boundary segments...\")\n",
    "\n",
    "  # create a buffer / zone of 5 degrees lat/long around the plate boundary\n",
    "  pbb = pb.buffer(5.0)\n",
    "\n",
    "  # find all the points within 5 degrees from the plate boundary\n",
    "  idx = [pbb.contains(g) for g in gdf.geometry]\n",
    "  gdfi = gdf.loc[idx]\n",
    "\n",
    "  # calculate the distances between all points and the segment\n",
    "  dist = gdfi.geometry.distance(pb)\n",
    "\n",
    "  # store the distance\n",
    "  ds[:, i][idx] = dist\n",
    "\n",
    "# record the end time\n",
    "endtime = time.time()\n",
    "\n",
    "print(\"done\")\n",
    "\n",
    "print(f\"duration: {endtime - start} sec\")"
   ]
  },
  {
   "cell_type": "markdown",
   "metadata": {
    "id": "LHbZto5URI4S"
   },
   "source": [
    "Next we calculate the shortest distance from the distances of the earthquakes to all plate boundaries that we have calculated above. Note that we calculate this distance in degrees latitudde/longitude still first:"
   ]
  },
  {
   "cell_type": "code",
   "execution_count": null,
   "metadata": {
    "id": "pll9QSL7Gy_t"
   },
   "outputs": [],
   "source": [
    "# get the shortest distance for each earthquake from the distances to all plate boundaries\n",
    "d_final = np.min(ds, axis=1)\n",
    "\n",
    "# add nodata values\n",
    "d_final[d_final==1e9] = np.nan\n",
    "\n",
    "# add this to the dataset\n",
    "gdf[\"distance_to_nearest_plate_bnd_degrees\"] = d_final"
   ]
  },
  {
   "cell_type": "markdown",
   "metadata": {
    "id": "QVnTSyOAHLsc"
   },
   "source": [
    "Next, we need to convert the distance from degrees to a distance in meters. This is necessary, because one degree longitude is about 100 km at the equator, but decreases if you go north towards the northpole, so to make the comparison honest, we need distance in meters and not in degrees. We convert the distance using the so-called [haversine equation](https://en.wikipedia.org/wiki/Haversine_formula) below:"
   ]
  },
  {
   "cell_type": "code",
   "execution_count": null,
   "metadata": {
    "id": "G6Wrtf3XHCHd"
   },
   "outputs": [],
   "source": [
    "def haversine(lon1, lat1, lon2, lat2):\n",
    "    \"\"\"\n",
    "    Calculate the great circle distance between two points\n",
    "    on the earth (specified in decimal degrees)\n",
    "\n",
    "    https://stackoverflow.com/questions/4913349/haversine-formula-in-python-bearing-and-distance-between-two-gps-points\n",
    "    \"\"\"\n",
    "    # convert decimal degrees to radians\n",
    "    #lon1, lat1, lon2, lat2 = map(math.radians, [lon1, lat1, lon2, lat2])\n",
    "    lon1r, lat1r, lon2r, lat2r = np.deg2rad(lon1), np.deg2rad(lat1), np.deg2rad(lon2), np.deg2rad(lat2)\n",
    "\n",
    "    # haversine formula\n",
    "    dlon = lon2r - lon1r\n",
    "    dlat = lat2r - lat1r\n",
    "    a = np.sin(dlat / 2) ** 2 + np.cos(lat1) * np.cos(lat2) * np.sin(dlon / 2) ** 2\n",
    "    c = 2 * np.arcsin(np.sqrt(a))\n",
    "    r = 6371  # Radius of earth in kilometers. Use 3956 for miles\n",
    "\n",
    "    return c * r"
   ]
  },
  {
   "cell_type": "code",
   "execution_count": null,
   "metadata": {
    "id": "YrqZmVSTHFIZ"
   },
   "outputs": [],
   "source": [
    "# get the shortest distances in degrees\n",
    "xd = d_final\n",
    "\n",
    "# create two points that are xd degrees apart in longitude at the latitude of the earthquake\n",
    "long1 = gdf[\"lon\"] - 0.5 * xd\n",
    "lat1 = gdf[\"lat\"]\n",
    "long2 = gdf[\"lon\"] + 0.5 * xd\n",
    "lat2 = gdf[\"lat\"]\n",
    "\n",
    "# calculate the distance in km between these two points, using the haversine function that was defined above\n",
    "dist_km = haversine(long1, lat1, long2, lat2)\n",
    "\n",
    "# store the distance to the nearest plate boundary in the dataframe\n",
    "gdf[\"distance_to_nearest_plate_bnd\"] = dist_km\n",
    "\n",
    "# some data cleaning, remove rows with no data:\n",
    "gdf = gdf.dropna(subset=\"distance_to_nearest_plate_bnd\")"
   ]
  },
  {
   "cell_type": "markdown",
   "metadata": {
    "id": "l_IFwy0_HmSR"
   },
   "source": [
    "Finally, lets plot the results to see how close earthquakes are to the plate boundaries:"
   ]
  },
  {
   "cell_type": "code",
   "execution_count": null,
   "metadata": {
    "colab": {
     "base_uri": "https://localhost:8080/",
     "height": 467
    },
    "id": "i0TwZ12KHtfi",
    "outputId": "5698f25f-e480-46cf-a3dd-031e4de22f71"
   },
   "outputs": [],
   "source": [
    "# creat a figure with one subplots\n",
    "fig,ax = pl.subplots(1, 1)\n",
    "\n",
    "# make a histogram of the distances\n",
    "ax.hist(gdf[\"distance_to_nearest_plate_bnd\"], bins=np.linspace(0, 500, 101))\n",
    "\n",
    "# add labels to the figure axes:\n",
    "ax.set_xlabel(\"Distance from plate boundary (km)\")\n",
    "ax.set_ylabel(\"Number of earthquakes\")"
   ]
  },
  {
   "cell_type": "markdown",
   "metadata": {
    "id": "U2GsgL0LH3P_"
   },
   "source": [
    "As you can see in the figure above most earthquakes are close to plate boundaries, and the number of earthquakes decreases as you go further away."
   ]
  },
  {
   "cell_type": "markdown",
   "metadata": {
    "id": "I56Oi1pNRSxn"
   },
   "source": [
    "## 3.4 Differences between plate boundaries\n",
    "\n",
    "Next we will look if we can find differences in eartquake distributions between the different types of plate boundary.\n",
    "\n",
    "We first assign the closest plate boundary to each earthquake in our dataset:"
   ]
  },
  {
   "cell_type": "code",
   "execution_count": null,
   "metadata": {
    "id": "28b27e68-a8a1-4f38-ada2-d1076ceda390"
   },
   "outputs": [],
   "source": [
    "# find the nearest plate boundary for each earthquake\n",
    "ixs = [plate_bnd.sindex.nearest(g)[1][0] for g in gdf.geometry]\n",
    "\n",
    "# record the plate boundary feature and type in the dataframe\n",
    "gdf[\"plate_bnd\"] = [plate_bnd.loc[ix, \"feature\"] for ix in ixs]\n",
    "gdf[\"plate_bnd_type\"] = [plate_bnd.loc[ix, \"type\"] for ix in ixs]"
   ]
  },
  {
   "cell_type": "markdown",
   "metadata": {
    "id": "jjU5J39zR4er"
   },
   "source": [
    "Next we plot the distances between each earthquake and the nearest plate, for each plate boundary type"
   ]
  },
  {
   "cell_type": "code",
   "execution_count": null,
   "metadata": {
    "colab": {
     "base_uri": "https://localhost:8080/",
     "height": 736
    },
    "id": "MBtOBuLTR4th",
    "outputId": "701b018d-1c2b-4d83-bf70-3564a5f5842b"
   },
   "outputs": [],
   "source": [
    "# get a list of all plate boundary types\n",
    "plate_types = gdf[\"plate_bnd_type\"].unique()\n",
    "\n",
    "# create a figure with subplots for each plate boundary type\n",
    "fig, axs = pl.subplots(3, 2, sharex=True, figsize=(8, 8))\n",
    "\n",
    "# make the list of subplots a 1D array\n",
    "axs = axs.ravel()\n",
    "\n",
    "# go through all plate boundary types and make a histogram of distances for each type\n",
    "for pt, ax in zip(plate_types, axs):\n",
    "\n",
    "    # select only earthquakes that are closest to this plate boundary type\n",
    "    idx = gdf[\"plate_bnd_type\"] == pt\n",
    "    \n",
    "    # set the bins for the histogram\n",
    "    # here we create 101 bins between 0 and 500 km using numpy's linspace function\n",
    "    bins = np.linspace(0, 500, 101)\n",
    "\n",
    "    # make a histogram of the distances for this plate boundary type\n",
    "    ax.hist(gdf.loc[idx, \"distance_to_nearest_plate_bnd\"], bins=bins)\n",
    "    ax.set_title(pt)\n",
    "\n",
    "# add labels to the figure axes:\n",
    "axs[-2].set_xlabel(\"Distance to plate boundary (km)\")\n",
    "axs[-1].set_xlabel(\"Distance to plate boundary (km)\")\n",
    "\n",
    "axs[0].set_ylabel(\"Number of earthquakes\")\n",
    "axs[2].set_ylabel(\"Number of earthquakes\")\n",
    "axs[4].set_ylabel(\"Number of earthquakes\")"
   ]
  },
  {
   "cell_type": "markdown",
   "metadata": {},
   "source": [
    "Lets also calculate some statistics for each plate boundary, such as the mean, [standard deviation](https://en.wikipedia.org/wiki/Standard_deviation) (std) and the 25, 50% and 75% [percentiles](https://en.wikipedia.org/wiki/Percentile):"
   ]
  },
  {
   "cell_type": "code",
   "execution_count": null,
   "metadata": {},
   "outputs": [],
   "source": [
    "for pt in plate_types:\n",
    "\n",
    "    idx = gdf[\"plate_bnd_type\"] == pt\n",
    "    print(pt)\n",
    "    print(gdf.loc[idx, \"distance_to_nearest_plate_bnd\"].describe())\n",
    "    print(\"----\")"
   ]
  },
  {
   "cell_type": "markdown",
   "metadata": {},
   "source": [
    "The histograms and statistics above hint at a difference for different plate boundaries. However, while we may see the differences clearly in some cases, in other cases these can be more subtle. One way to check if our visual interpretation of the histograms is right is the [Kolmogorov-Smirnov test](https://en.wikipedia.org/wiki/Kolmogorov%E2%80%93Smirnov_test), which tests if two distributions are the same or not. Similarly to the linear regression in the previous two exercises, it test a null hypothesis, but this time that the null hypothesis is the hypothesis that the two distributions are the same. If the probability of the null hypothesis is low (p < 0.05) then we can reject the null hypothesis and assume that the distributions of earthquakes are different. \n",
    "\n",
    "Below we test if the distribution of earthquake distance for each plate boundary is significantly different from the total distribution:"
   ]
  },
  {
   "cell_type": "code",
   "execution_count": null,
   "metadata": {},
   "outputs": [],
   "source": [
    "import scipy.stats\n",
    "\n",
    "# go through each plate boundary type and perform a Kolmogorov-Smirnov test\n",
    "for pt in plate_types:\n",
    "    # select only earthquakes that are closest to this plate boundary type\n",
    "    idx = gdf[\"plate_bnd_type\"] == pt\n",
    "\n",
    "    # perform the Kolmogorov-Smirnov test\n",
    "    ks_test = scipy.stats.kstest(gdf.loc[idx, \"distance_to_nearest_plate_bnd\"], gdf[\"distance_to_nearest_plate_bnd\"])\n",
    "    \n",
    "    # print the results to the screen\n",
    "    print(\"-\" * 10)\n",
    "    print(pt)\n",
    "    print(\"p value null hypothesis: \", ks_test.pvalue)"
   ]
  },
  {
   "cell_type": "markdown",
   "metadata": {
    "id": "knNzpgyQSGnH"
   },
   "source": [
    "Let's also see if we can find differences in earthquake magnitude between the different plate boundaries. We will again plot histograms, summary statistics and Kolmogorov-Smirnov test results:"
   ]
  },
  {
   "cell_type": "code",
   "execution_count": null,
   "metadata": {
    "colab": {
     "base_uri": "https://localhost:8080/",
     "height": 736
    },
    "id": "mPErkhuaR8cR",
    "outputId": "ae91ca43-f76f-497f-9473-4526494e2b91"
   },
   "outputs": [],
   "source": [
    "# create a figure with 3x2 subplots\n",
    "\n",
    "fig, axs = pl.subplots(3, 2, sharex=True, figsize=(8, 8))\n",
    "axs = axs.ravel()\n",
    "\n",
    "# go through all plate boundary types and make a histogram of distances for each type\n",
    "for pt, ax in zip(plate_types, axs):\n",
    "\n",
    "    idx = gdf[\"plate_bnd_type\"] == pt\n",
    "    ax.hist(gdf.loc[idx, \"mw\"], bins=30)\n",
    "    ax.set_title(pt)\n",
    "\n",
    "# add albels to the figure axes:\n",
    "axs[-2].set_xlabel(\"Moment magnitude (Mw)\")\n",
    "axs[-1].set_xlabel(\"Moment magnitude (Mw)\")\n",
    "\n",
    "axs[0].set_ylabel(\"Number of earthquakes\")\n",
    "axs[2].set_ylabel(\"Number of earthquakes\")\n",
    "axs[4].set_ylabel(\"Number of earthquakes\")"
   ]
  },
  {
   "cell_type": "code",
   "execution_count": null,
   "metadata": {},
   "outputs": [],
   "source": [
    "print(\"Mw for different plate bnds:\\n\")\n",
    "\n",
    "for pt in plate_types:\n",
    "    \n",
    "    print(\"----\")\n",
    "    idx = gdf[\"plate_bnd_type\"] == pt\n",
    "    print(pt)\n",
    "    print(gdf.loc[idx, \"mw\"].describe())\n",
    "    "
   ]
  },
  {
   "cell_type": "code",
   "execution_count": null,
   "metadata": {},
   "outputs": [],
   "source": [
    "import scipy.stats\n",
    "\n",
    "for pt in plate_types:\n",
    "\n",
    "    idx = gdf[\"plate_bnd_type\"] == pt\n",
    "    ks_test = scipy.stats.kstest(gdf.loc[idx, \"mw\"], gdf[\"mw\"])\n",
    "    \n",
    "    print(\"-\" * 10)\n",
    "    print(pt)\n",
    "    print(\"p value null hypothesis: \", ks_test.pvalue)"
   ]
  },
  {
   "cell_type": "markdown",
   "metadata": {
    "id": "avgsy-DFSBhU"
   },
   "source": [
    "And finally we will look at the differences in eartquake depth, and if they are affected by plate boundary type. Note that we log-transform the depth here to visualize the results better."
   ]
  },
  {
   "cell_type": "code",
   "execution_count": null,
   "metadata": {
    "colab": {
     "base_uri": "https://localhost:8080/",
     "height": 736
    },
    "id": "hI74R7cjSAhh",
    "outputId": "722997b0-a52b-458d-d1b0-6f482be59c84"
   },
   "outputs": [],
   "source": [
    "fig, axs = pl.subplots(3, 2, sharex=True, figsize=(8, 8))\n",
    "axs = axs.ravel()\n",
    "for pt, ax in zip(plate_types, axs):\n",
    "\n",
    "    idx = gdf[\"plate_bnd_type\"] == pt\n",
    "    gdfi = gdf.loc[idx]\n",
    "\n",
    "    log_depth = np.log10(gdfi[\"depth\"])\n",
    "    log_depth[gdfi[\"depth\"] == 0] = np.nan\n",
    "\n",
    "    ax.hist(log_depth, bins=30)\n",
    "    ax.set_title(pt)\n",
    "\n",
    "\n",
    "axs[-2].set_xlabel(\"log10(depth (km))\")\n",
    "axs[-1].set_xlabel(\"log10(depth (km))\")\n",
    "\n",
    "ax.set_xlim(0.5, 3)\n",
    "\n",
    "axs[0].set_ylabel(\"Number of earthquakes\")\n",
    "axs[2].set_ylabel(\"Number of earthquakes\")\n",
    "axs[4].set_ylabel(\"Number of earthquakes\")"
   ]
  },
  {
   "cell_type": "code",
   "execution_count": null,
   "metadata": {},
   "outputs": [],
   "source": [
    "print(\"EQ depth for different plate bnds:\\n\")\n",
    "\n",
    "for pt in plate_types:\n",
    "    \n",
    "    print(\"----\")\n",
    "    idx = gdf[\"plate_bnd_type\"] == pt\n",
    "    print(pt)\n",
    "    print(gdf.loc[idx, \"depth\"].describe())\n",
    "    "
   ]
  },
  {
   "cell_type": "code",
   "execution_count": null,
   "metadata": {},
   "outputs": [],
   "source": [
    "import scipy.stats\n",
    "\n",
    "for pt in plate_types:\n",
    "\n",
    "    idx = gdf[\"plate_bnd_type\"] == pt\n",
    "    ks_test = scipy.stats.kstest(gdf.loc[idx, \"depth\"], gdf[\"depth\"])\n",
    "    \n",
    "    print(\"----\")\n",
    "    print(pt)\n",
    "    print(\"p value null hypothesis: \", ks_test.pvalue)"
   ]
  },
  {
   "cell_type": "markdown",
   "metadata": {
    "id": "_YyoTCGJzzkl"
   },
   "source": [
    "---\n",
    "\n",
    "# Section 4: The structure of the earth and earthquakes"
   ]
  },
  {
   "cell_type": "markdown",
   "metadata": {
    "id": "-40k7Cs8zz4U"
   },
   "source": [
    "So far we have mostly looked at the spatial distirbution of earthquakes and how they cluster around plate boundaries. In this section we will look at how the earthquakes are distributed with depth, and how this correlates with the structure of the earth. As mentioned in the introduction, [the earth has an internal structure](https://en.wikipedia.org/wiki/Internal_structure_of_Earth), and is subdivided in several layers. On top we have the [crust](https://en.wikipedia.org/wiki/Earth%27s_crust), which is the outermost shell that consists of relatively light rocks. There is a sharp transition in seismic wave velocity at the base of the crust, which is called the [Mohorovic discontinuity](https://en.wikipedia.org/wiki/Mohorovi%C4%8Di%C4%87_discontinuity), or the Moho. The [lithosphere](https://en.wikipedia.org/wiki/Lithosphere) is the rigid outmost shell of the earth that consists of the crust and the upper mantle. The lithosphere is mechanically strong compared to the underlying [astenosphere](https://en.wikipedia.org/wiki/Asthenosphere), which is why deformation of the lithosphere tends to concentrate along the boundaries of relatively rigid tectonic plates.\n",
    "\n",
    "We will use data on the thickness of the crust and lithosphere that were published by [Afonso et al. (2019)](https://doi.org/10.1093/gji/ggz094). These researchers have used seismic data and several other geophysical methods to estimate how thick these layers are.\n",
    "\n",
    "![](https://upload.wikimedia.org/wikipedia/commons/thumb/d/db/Earth_Internal_Structure.svg/512px-Earth_Internal_Structure.svg.png)\n",
    "\n",
    "*Overview of the structure of the earth's interior. The rigid mantle coincides with the lithosphere. Source: Wikipedia*"
   ]
  },
  {
   "cell_type": "markdown",
   "metadata": {
    "id": "7OHxV-zrST0s"
   },
   "source": [
    "For this part of the exercise we need to load an additional module called [rasterio](https://rasterio.readthedocs.io/en/stable/quickstart.html), which will enable us to work with raster data. Raster data is data that provide a continuous two dimensional image using pixels or grid cells. In this case we will use raster data for the thickness of the crust and lithosphere:"
   ]
  },
  {
   "cell_type": "code",
   "execution_count": null,
   "metadata": {
    "colab": {
     "base_uri": "https://localhost:8080/"
    },
    "id": "t7Kb86_cSd1r",
    "outputId": "dd87d57c-c242-41b6-9f6b-74f5ce08019a"
   },
   "outputs": [],
   "source": [
    "!pip install -q rasterio"
   ]
  },
  {
   "cell_type": "markdown",
   "metadata": {
    "id": "VGis6B2xSqpq"
   },
   "source": [
    "We will use raster files with the thickness of the crust and the lithosphere on earth. We first specify the locations of the files for the thickness of the crust and lithosphere:"
   ]
  },
  {
   "cell_type": "code",
   "execution_count": null,
   "metadata": {
    "id": "xsE76_HPSOvr"
   },
   "outputs": [],
   "source": [
    "fn_crust = \"https://github.com/ElcoLuijendijk/intro_earth_science_informatics/raw/refs/heads/main/data/Afonso_etal_GJI_2019_LithoRef18_moho.tif\"\n",
    "\n",
    "fn_litho = \"https://github.com/ElcoLuijendijk/intro_earth_science_informatics/raw/refs/heads/main/data/Afonso_etal_GJI_2019_LithoRef18_mod_LAB.tif\"\n",
    "\n",
    "raster_files = [fn_crust, fn_litho]\n",
    "\n",
    "raster_names = [\"elevation_bottom_crust\", \"elevation_bottom_lithosphere\"]"
   ]
  },
  {
   "cell_type": "markdown",
   "metadata": {
    "id": "mSUr207uSSRN"
   },
   "source": [
    "Next we use a relatively long code block to go through the two raster files and assign the raster values for crustal thickness and lithosphere thickness to each of the earthquake data points:"
   ]
  },
  {
   "cell_type": "code",
   "execution_count": null,
   "metadata": {
    "colab": {
     "base_uri": "https://localhost:8080/"
    },
    "id": "oxzfZmqtSnFx",
    "outputId": "0f59e89b-8270-4f46-9e16-22ecd9302ed2"
   },
   "outputs": [],
   "source": [
    "import rasterio as rio\n",
    "\n",
    "# create some empty lists to store the results\n",
    "metas = []\n",
    "\n",
    "rasters = []\n",
    "lons = []\n",
    "lats = []\n",
    "\n",
    "# go through both raster files\n",
    "for raster_file, raster_name in zip(raster_files, raster_names):\n",
    "\n",
    "    print('-' * 20)\n",
    "    print(f\"loading raster dataset {raster_file}\")\n",
    "    print(\"processing raster data and extracting values at earthquake locations...\")\n",
    "\n",
    "    # open the raster file\n",
    "    rf = rio.open(raster_file)\n",
    "\n",
    "    # read the data\n",
    "    rd = rf.read(1)\n",
    "\n",
    "    # store the data\n",
    "    rasters.append(rd)\n",
    "\n",
    "    # read and store the metadata\n",
    "    meta = rf.profile\n",
    "    metas.append(meta)\n",
    "\n",
    "    # store the coordinates of the raster\n",
    "    height = rd.shape[0]\n",
    "    width = rd.shape[1]\n",
    "    #cols, rows = np.meshgrid(np.arange(width), np.arange(height))\n",
    "    cols, rows = np.arange(width), np.arange(height)\n",
    "    xs, _ = rio.transform.xy(rf.transform, np.zeros_like(cols), cols)\n",
    "    _ , ys = rio.transform.xy(rf.transform, rows, np.zeros_like(rows))\n",
    "    lon = np.array(xs)\n",
    "    lat = np.array(ys)\n",
    "\n",
    "    lons.append(lon)\n",
    "    lats.append(lat)\n",
    "\n",
    "    # find the raster values for each earthquake point\n",
    "    rx, ry = gdf.geometry.x.values, gdf.geometry.y.values\n",
    "    rc = [rf.index(rxi, ryi) for rxi, ryi in zip(rx, ry)]\n",
    "    rca = np.array(rc)\n",
    "    row = rca[:, 0]\n",
    "    col = rca[:, 1]\n",
    "\n",
    "    # check if any points located outside of raster\n",
    "    indr = np.array(row) >= rd.shape[0]\n",
    "    indc = np.array(col) >= rd.shape[1]\n",
    "\n",
    "    # fix for points that are outside of raster\n",
    "    if np.any(indr) or np.any(indc):\n",
    "        row_array = np.array(row)\n",
    "        col_array = np.array(col)\n",
    "        row_array[indr] = 0\n",
    "        col_array[indc] = 0\n",
    "        row, col = list(row_array), list(col_array)\n",
    "\n",
    "    # store the raster values\n",
    "    rstats_list = rd[row, col]\n",
    "\n",
    "    # add nan values for locations outside of raster\n",
    "    if np.any(indr) or np.any(indc):\n",
    "        rstats_list[indr] = np.nan\n",
    "        rstats_list[indc] = np.nan\n",
    "\n",
    "    gdf[raster_name] = rstats_list\n",
    "\n",
    "    # close the file\n",
    "    rf.close()"
   ]
  },
  {
   "cell_type": "markdown",
   "metadata": {
    "id": "mFrJPqb4bcjn"
   },
   "source": [
    "Next we will correct some values to make calculations a bit easier:"
   ]
  },
  {
   "cell_type": "code",
   "execution_count": null,
   "metadata": {
    "id": "3wdF6dVyTEiL"
   },
   "outputs": [],
   "source": [
    "gdf[\"depth_crust\"] = -gdf[\"elevation_bottom_crust\"]\n",
    "gdf[\"depth_lithosphere\"] = - gdf[\"elevation_bottom_lithosphere\"]\n",
    "\n",
    "depth_crust = -rasters[0]\n",
    "depth_lithosphere = -rasters[1]"
   ]
  },
  {
   "cell_type": "markdown",
   "metadata": {
    "id": "7fUegpflUlr9"
   },
   "source": [
    "Let's see what the thickness of the crust and lithosphere look like:"
   ]
  },
  {
   "cell_type": "code",
   "execution_count": null,
   "metadata": {
    "colab": {
     "base_uri": "https://localhost:8080/",
     "height": 693
    },
    "id": "GNMyoNe6TJg7",
    "outputId": "43aeb53f-69d3-4fc4-d93e-ccd985602caa"
   },
   "outputs": [],
   "source": [
    "fig = pl.figure(figsize=(10, 8))\n",
    "\n",
    "axs = [fig.add_subplot(2,1,i, projection=proj) for i in range(1, 3)]\n",
    "\n",
    "for ax in axs:\n",
    "  plate_bnd_plot = plate_bnd.plot(ax=ax, zorder=1, color=\"tab:orange\", lw=1.0,\n",
    "                                  transform=ccrs.PlateCarree())\n",
    "l1 = axs[0].imshow(depth_crust / 1000.0,\n",
    "                   transform=ccrs.PlateCarree(), cmap=\"cmc.imola\")\n",
    "l2 = axs[1].imshow(depth_lithosphere  / 1000.0,\n",
    "                   transform=ccrs.PlateCarree(), cmap=\"cmc.imola\")\n",
    "\n",
    "\n",
    "cb1 = fig.colorbar(l1, ax=axs[0], shrink=0.5)\n",
    "cb1.set_label(\"Crust depth (km)\")\n",
    "\n",
    "cb2 = fig.colorbar(l2, ax=axs[1], shrink=0.5)\n",
    "cb2.set_label(\"Lithosphere depth (km)\")\n",
    "\n",
    "axs[0].set_title(\"Depth of the crust-mantle boundary\")\n",
    "\n",
    "axs[1].set_title(\"Depth of the lithosphere-astenosphere boundary\")"
   ]
  },
  {
   "cell_type": "markdown",
   "metadata": {
    "id": "o8v74ktnl6kA"
   },
   "source": [
    "## 4.1 Calculate depth as fraction of crustal thickness\n",
    "\n",
    "To visualize how the eartquakes are distributed within the crust and the lithosphere we calculate the relative depth for each earthquake compared to the depth of the crust-mantle boundary, and the depth of the lithosphere-astenopshere boundary. To be able to visualize the distance to both of these boundaries, we will assign a value of 0 to 1 if the earthquake is in the crust, starting with 0 if the earthquake is at the land surface, and a value of 1.0 if the earthquake is at the bottom of the crust. We will assing a value between 1 and 2 if the earthquake is in the mantle lithosphere (i.e. below the crust), starting at 1 if the earthquake is at the bottom of the crust, to a value of 2.0 if the earthquake is at the bottom of the lithosphere. We will assing values exceeding 2.0 if the earthquakes happen in the astenosphere, with the value reflecting the distance compared to the thickness of the lithosphere."
   ]
  },
  {
   "cell_type": "code",
   "execution_count": null,
   "metadata": {
    "id": "1qPmPUGjkjT_"
   },
   "outputs": [],
   "source": [
    "# covert depths to m\n",
    "gdf[\"depth_m\"] = gdf[\"depth\"] * 1000.0\n",
    "\n",
    "# calculate the relative depth of earthquakes in the crust\n",
    "gdf[\"relative_depth_crust\"] = gdf[\"depth_m\"] / gdf[\"depth_crust\"]\n",
    "\n",
    "# calculate the relative depth of each of the earthquakes in the lithosphere\n",
    "gdf[\"relative_depth_lithosphere\"] = (gdf[\"depth_m\"] - gdf[\"depth_crust\"]) / (gdf[\"depth_lithosphere\"] - gdf[\"depth_crust\"])\n",
    "\n",
    "# assign relative depth in the crust to all points that are actually inside the crust\n",
    "ixc = gdf[\"depth_m\"] < gdf[\"depth_crust\"]\n",
    "gdf.loc[ixc, \"relative_depth\"] =  gdf.loc[ixc, \"relative_depth_crust\"]\n",
    "\n",
    "# assign the 1 + relative depth in the lithosphere to all points below the crust\n",
    "ixl = gdf[\"depth_m\"] >= gdf[\"depth_crust\"]\n",
    "gdf.loc[ixl, \"relative_depth\"] =  gdf.loc[ixl, \"relative_depth_lithosphere\"] + 1.0"
   ]
  },
  {
   "cell_type": "markdown",
   "metadata": {
    "id": "OstzmLxZgGbi"
   },
   "source": [
    "Next, lets visualize the relative depth distribution of earthquakes in the crust and lithosphere:"
   ]
  },
  {
   "cell_type": "code",
   "execution_count": null,
   "metadata": {
    "colab": {
     "base_uri": "https://localhost:8080/",
     "height": 471
    },
    "id": "frIFa5b1mTOt",
    "outputId": "5ddfecce-c231-4f5e-e42d-b85a1e6bbb27"
   },
   "outputs": [],
   "source": [
    "# create a figure and a single subplot\n",
    "fig, ax = pl.subplots(1, 1)\n",
    "\n",
    "# make a histogram of the relative depths\n",
    "ax.hist(gdf[\"relative_depth\"], bins=np.arange(0, 5, 0.05))\n",
    "\n",
    "# add vertical lines and text to indicate \n",
    "# the crust-mantle boundary and the lithosphere-astenosphere boundary\n",
    "ax.axvline(x=1, color=\"black\")\n",
    "ax.axvline(x=2, color=\"black\")\n",
    "ax.text(1.0, 200, \"Moho (crust-mantle boundary)\", va=\"bottom\", rotation=90)\n",
    "ax.text(2.0, 200, \"Lithosphere-astenosphere\\nboundary (LAB)\",\n",
    "            va=\"bottom\", rotation=90)\n",
    "\n",
    "# label the axes\n",
    "ax.set_xlabel(\"Relative depth of earthquakes\")\n",
    "ax.set_ylabel(\"Number of earthquakes\")"
   ]
  },
  {
   "cell_type": "markdown",
   "metadata": {
    "id": "H4BkjuCEVqrH"
   },
   "source": [
    "As you can see above the eartquake clustering in the crust and the lithosphere is not uniform, but earthquakes cluster at certain depths."
   ]
  },
  {
   "cell_type": "markdown",
   "metadata": {
    "id": "EEjgfE80Wjk0"
   },
   "source": [
    "## 4.2 Earthquake clustering and plate boundaries\n",
    "\n",
    "We can repeat the analysis above for the different plate boundaries, to see if there are significant differences between them:"
   ]
  },
  {
   "cell_type": "code",
   "execution_count": null,
   "metadata": {
    "colab": {
     "base_uri": "https://localhost:8080/",
     "height": 1000
    },
    "id": "_EZUAv1emaEA",
    "outputId": "2804943d-7b1a-4255-8424-2b2259320a67"
   },
   "outputs": [],
   "source": [
    "fig, axs = pl.subplots(6, 1, sharex=True, figsize=(6, 10), layout=\"constrained\")\n",
    "#axs = axs.ravel()\n",
    "for pt, ax in zip(plate_types, axs):\n",
    "\n",
    "    idx = gdf[\"plate_bnd_type\"] == pt\n",
    "    gdfi = gdf.loc[idx]\n",
    "\n",
    "    ax.hist(gdfi[\"relative_depth\"], bins=np.arange(0, 5, 0.05))\n",
    "    ax.axvline(x=1, color=\"black\")\n",
    "    ax.axvline(x=2, color=\"black\")\n",
    "    ax.text(1.0, 0, \"Moho\", va=\"bottom\", rotation=90)\n",
    "    ax.text(2.0, 0, \"LAB\", va=\"bottom\", rotation=90)\n",
    "\n",
    "    ax.set_title(pt)\n",
    "    ax.set_ylabel(\"Number of\\neartquakes\")\n",
    "\n",
    "axs[-1].set_xlabel(\"Relative depth of earthquakes\\nin the crust and lithosphere\")\n",
    "#axs[-1, 1].set_xlabel(\"Relative depth in lithosphere\")\n"
   ]
  },
  {
   "cell_type": "markdown",
   "metadata": {
    "id": "Q1XGKWvrFRWK"
   },
   "source": [
    "---\n",
    "\n",
    "# **ASSIGNMENT 4.1: Answer the research questions**\n",
    "\n",
    "Now that you have finished the analysis of global earthquake data, let's see what we can learn from the results of the analysis, and try and answer the research questions.\n",
    "\n",
    "1. What is the spatial and depth distribution of earthquakes globally, and how is the magnitude distributed?\n",
    "2. What is the relation between the location of plate boundaries and earthquakes?\n",
    "3. How do the different types of plate boundaries affect the depth, magnitude and spatial distribution of earthquakes?\n",
    "4. What is the relation between the crust and lithosphere and the distribution of earthquakes?\n",
    "\n",
    "\n",
    "**Formulate an answer for each of the research questions that were defined at the end of the introduction in the text block below**. Motivate your answer, and support all your answers on the results of the analysis of the data."
   ]
  },
  {
   "cell_type": "markdown",
   "metadata": {
    "id": "tSLRAArjL0wD"
   },
   "source": [
    "---\n",
    "\n",
    "*Add your answer to the research questions from the introduction. Make sure to give each answer the same number as the corresponding question, and write each answer in a separate paragraph, separated from the preceding paragraph by an empty line. Base your answer on the results of the data analysis.*\n",
    "\n",
    "---"
   ]
  },
  {
   "cell_type": "markdown",
   "metadata": {},
   "source": [
    "---\n",
    "\n",
    "# **ASSIGNMENT 4.2 (optional): Find scientific explanations**\n",
    "\n",
    "In our analysis we did not address the why question yet. \n",
    "\n",
    "1. Why are earthquakes distributed in depth and in space the way they are for the different plate boundaries? \n",
    "2. Why is there such a difference between the boundaries? \n",
    "3. Why do earthquakes cluster around certain depths in the crust and lithosphere? \n",
    "\n",
    "Try to find answers to the questions above in the scientific literature. A good start as usual is looking at Wikipedia, or asking Copilot. Next try to look at figures or explanations in the scientific literature that they cite, or try to find research papers yourself using google scholar: https://scholar.google.com/"
   ]
  },
  {
   "cell_type": "markdown",
   "metadata": {},
   "source": [
    "---\n",
    "\n",
    "*Add your answer to the bonus assignment here*\n",
    "\n",
    "---"
   ]
  },
  {
   "cell_type": "markdown",
   "metadata": {},
   "source": [
    "# Done!\n",
    "\n",
    "Congrats, you managed to complete the exercise. We hope you enjoyed learning about earthquakes, plate tectonics and the internal structure of our planet. This was the last exercise in this module, next up is a module on weather and climate, where you will encounter another important part of the earth sciences, computer models to simulate processes on our planet.\n",
    "\n",
    "As always we would be very happy with feedback to improve this part of the course. Use the feedback form in mitt.uib, or the IEarth feedback QR code that is in the exercise description on mitt.uib."
   ]
  }
 ],
 "metadata": {
  "colab": {
   "provenance": []
  },
  "kernelspec": {
   "display_name": "py313",
   "language": "python",
   "name": "python3"
  },
  "language_info": {
   "codemirror_mode": {
    "name": "ipython",
    "version": 3
   },
   "file_extension": ".py",
   "mimetype": "text/x-python",
   "name": "python",
   "nbconvert_exporter": "python",
   "pygments_lexer": "ipython3",
   "version": "3.13.2"
  }
 },
 "nbformat": 4,
 "nbformat_minor": 4
}
