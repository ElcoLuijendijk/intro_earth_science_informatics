{
 "cells": [
  {
   "cell_type": "markdown",
   "metadata": {
    "id": "G1ERcrba9yzj"
   },
   "source": [
    "# Exercise 1b: Analysis of global temperatures and $CO_2$ in the last 66 million years\n",
    "\n",
    "## Introduction\n",
    "\n",
    "After our look into the historic changes in temperature we are now ready to dive back further in time and look at how climate has changed on our small planet in the last 66 million years. This part of our planet's history is called the [Cenozoic](https://en.wikipedia.org/wiki/Cenozoic). For this exercise we will use the same basic tools as we have used in the previous exercise: looking for long-term trends by fitting trend models, and quantifying the relation between $CO_2$ in the atmosphere and temperature.\n",
    "\n",
    "## Paleoclimate and proxies\n",
    "The difference is that instead of looking at actual measurements, we will be using indirect information on climate and $CO_2$ in the geological past. For most of the time there were obviously no humans present to measure temperature or $CO_2$. The dinosaurs were extinct, and the other mammals were lazy and also did not measure temperature. So how can we study climate history? For this scientist rely on studying drill cores from sediments at the bottom of the ocean. Sediments are being deposited continuously in the ocean, and therefore the deeper you drill the older the sediments get. A sediment core is therefore a bit like a time machine into the geological past.\n",
    "\n",
    "The sediments can not tell you directly what the temperature was at the time they were being deposited. However, scientist have developed methods to measure oxygen isotopes in shells from organisms that lived on the seafloor. Isotopes are atoms with a higher number of neutrons than the regular version of the oxygen atom. The abundance of these isotopes correlates with the temperature of the seafloor. Similarly, other isotopes in these organisms correlate with the pH of the seawater, which in turn correlates with $CO_2$ in the atmosphere. So with data from these drill cores we can reconstruct how temperature and $CO_2$ have changed in the past.\n",
    "\n",
    "\n",
    "Note that researchers from our university are very active in studying the climate history of our planet. See for instance the [department of Quaternary geology and Paleoclimate](https://www.uib.no/en/rg/quaternary), the [Bjerknes Centre](https://bjerknes.uib.no/en/global-climate-research-theme) and the isotope lab [Farlab](https://www.uib.no/en/FARLAB). You can read up some of their results in [this paper by Nele Meckler](https://www.science.org/doi/full/10.1126/science.abk0604).  \n",
    "\n",
    "<img src=\"https://upload.wikimedia.org/wikipedia/commons/thumb/7/73/Planktic_foraminifera_microfossils_from_southern_Maryland.png/800px-Planktic_foraminifera_microfossils_from_southern_Maryland.png\" width=\"400\" />\n",
    "\n",
    "*A close look at some foraminefera, the isotopes in their shells can tell us something about climate. Source: https://en.wikipedia.org/wiki/Foraminifera*\n",
    "\n",
    "<img src=\"https://upload.wikimedia.org/wikipedia/commons/thumb/5/5f/All_palaeotemps.svg/800px-All_palaeotemps.svg.png\" width=\"600\" />\n",
    "\n",
    "*Reconstruction of climate history. Source: https://en.wikipedia.org/wiki/Paleoclimatology*\n",
    "\n",
    "## This exercise\n",
    "\n",
    "For this exercise you will use the same tools that you have used in exercise 1a to quantify trends and periodic changes in climate. We will start working on analysis of the entire Cenozoic period, or at least the part of the Cenozoic where we have good data, which starts at 56 million years ago. In addition, we will work on the Quaternary period, because it is the period that we live in and lots of interesting things happened to our planet's climate during this period.\n",
    "\n",
    "<img src=\"https://stratigraphy.org/ICSchart/ChronostratChart2023-09.jpg\" width=\"600\" />\n",
    "\n",
    "*The subidvision of earth's history into different periods, which is also termed chronostratigraphy. For this exercise we will focus on the Cenozoic and the Quaternary. Source: https://stratigraphy.org/*\n",
    "\n",
    "\n",
    "## Assignments and handing in this exercise\n",
    "\n",
    "This exercise contains several assignments, where you either have to complete a code block, or write some text in a text block. These assignments are marked clearly and numbered. Please hand in the assignments by modifying this notebook and handing in the completed notebook file on mitt.uib. You can download the notebook by selecting File > Download > Download .ipynb.\n",
    "\n",
    "Note that this exercise also contains two bonus assignments. These are not compulsory. They were designed to give you some extra scientific background into the causes of the trends and rhythms that you will find in the paleoclimate data. You can try to work on these bonus assignments if you have time left after completing the compulsory assignments."
   ]
  },
  {
   "cell_type": "markdown",
   "metadata": {
    "id": "_osCyWL5IVLY"
   },
   "source": [
    "---\n",
    "\n",
    "# Section 1: Paleotemperatures and $CO_2$ data\n",
    "\n",
    "This first section is devoted to the task of finding paleotemperature and paleo-CO2 data for the Cenozoic.\n",
    "\n",
    "## 1.1: Paleotemperature data\n",
    "\n",
    "We will use paleotemperature data published in [2020 by Westerhold et al](https://doi.org/10.1126/science.aba6853). Their estimates of temperature are based on oxygen isotopes from the shells of [foraminifera](https://doi.org/10.1126/science.aba6853), which are organisms that live on the sea floor. The relation between their oxygen isotope composition and deep-sea temperature follows a somewhat complicated and still uncertain relation that depends on the sea ice cover in the past and other factors. [Hansen et al. (2013)](https://doi.org/10.1098/rsta.2012.0294) provided equations to calculate deep-sea temperatures from the isotope data, and to then calculate sea surface temperatures from deep-ocean temperatures. The resulting surface temperatures have been published online in a [data and code repository](https://github.com/SPATIAL-Lab/CenoCO2/) that accompanies a [recent paper](https://doi.org/10.1126/science.adi5177). In this section we will download this data and visualize the temperature history of our planet over the last 66 million years."
   ]
  },
  {
   "cell_type": "markdown",
   "metadata": {
    "id": "h74GwIhAExj7"
   },
   "source": [
    "First we import the python modules numpy, pandas and matplotlib again:"
   ]
  },
  {
   "cell_type": "code",
   "execution_count": null,
   "metadata": {
    "id": "RRCCX3NQPENu"
   },
   "outputs": [],
   "source": [
    "# import the Python modules numpy, pandas and matplotlib\n",
    "import numpy as np\n",
    "import pandas as pd\n",
    "import matplotlib.pyplot as pl"
   ]
  },
  {
   "cell_type": "markdown",
   "metadata": {
    "id": "nBbaG-OTE2dO"
   },
   "source": [
    "next we will read the datafile and change some of the column names to makes them easier to work with:"
   ]
  },
  {
   "cell_type": "code",
   "execution_count": null,
   "metadata": {
    "id": "awfdvDBLOrwJ"
   },
   "outputs": [],
   "source": [
    "# specify the location of the dataset\n",
    "fnt = \"https://github.com/SPATIAL-Lab/CenoCO2/raw/main/data/Westerhold.xlsx\"\n",
    "\n",
    "# read the temperature data\n",
    "dft = pd.read_excel(fnt)\n",
    "\n",
    "# make new columns for 18O and temperature with simpler names:\n",
    "dft[\"d18O\"] = dft[\"benthic d18O VPDB CorrAdjusted\"]\n",
    "dft[\"dTs\"] = dft[\"GMST (oC)\"]"
   ]
  },
  {
   "cell_type": "markdown",
   "metadata": {
    "id": "dB4sPxFyE7l6"
   },
   "source": [
    "and it is always nice to visualize such data of course, so let's just do that here:"
   ]
  },
  {
   "cell_type": "code",
   "execution_count": null,
   "metadata": {
    "colab": {
     "base_uri": "https://localhost:8080/",
     "height": 467
    },
    "id": "ODpFiz1COwvh",
    "outputId": "f8244a4d-d1b6-46e5-d974-cce1e4738992"
   },
   "outputs": [],
   "source": [
    "# get the oldest age in the dataset\n",
    "max_age = dft[\"age_tuned\"].max()\n",
    "\n",
    "# create a figure with one subplot\n",
    "fig, ax = pl.subplots(1, 1)\n",
    "\n",
    "# plot the oxygen isotopes\n",
    "ax.plot(dft[\"age_tuned\"], dft[\"d18O\"], label=r\"$^{18}O\", lw=0.5)\n",
    "\n",
    "# create a second x-axis and plot the paleotemperature data\n",
    "axr = ax.twinx()\n",
    "axr.plot(dft[\"age_tuned\"], dft[\"dTs\"], label=\"Temperature\", color=\"black\", lw=0.5)\n",
    "\n",
    "# add labels to the x and y-axis\n",
    "ax.set_ylabel(r\"Oxygen isotope foraminifera shells ($\\Delta^{18}O$)\", color=\"tab:blue\")\n",
    "axr.set_ylabel(\"Temperature difference with present (degr. C)\")\n",
    "ax.set_xlabel(\"Millions of years before present\")\n",
    "\n",
    "# flip the x-axis to make sure age left is old and right-hand side is young\n",
    "ax.set_xlim(max_age, 0)"
   ]
  },
  {
   "cell_type": "markdown",
   "metadata": {
    "id": "54C1sssWTgWC"
   },
   "source": [
    "As you can above see the last 66 million years have not been a boring time for our planet. Most of the time the temperature has been much warmer, and you can also see a lot of short-term fluctuations that seems to have gotten stronger over the last few million years. However, before we dive into analysis of this data we will first get the second dataset that we need for this exercise, which is a dataset of the how atmospheric $CO_2$ has varied over geological history."
   ]
  },
  {
   "cell_type": "markdown",
   "metadata": {
    "id": "0pC6z4MjVhYQ"
   },
   "source": [
    "## 1.2 Paleo-$CO_2$ data\n",
    "\n",
    "We will use a compilation of paleo CO2 estimates that were compiled in 2023 by a large group of scientist, the Cenozoic Carbon dioxide Proxy Integration Project Consortium. They describe the data in [this paper](https://www.science.org/doi/full/10.1126/science.adi5177). They have also been so friendly to publish [their data online](https://github.com/SPATIAL-Lab/CenoCO2/).\n",
    "This group of scientist compiled data from a lot of different studies. The two most important methods to estimate past atmospheric $CO_2$ levels are boron isotope levels in marine organisms and carbon isotopes in alkenones. Boron isotopes in shells of marine organisms are a function of the pH level of the oceans, which in turn is a function of atmospheric $CO_2$ levels. In addition, carbon isotopes in carbon molecules (alkenones) in phytoplankton are controlled by the $CO_2$ levels of the oceans, which in turn correlate with atmospheric $CO_2$.\n",
    "\n",
    "We will use an estimate of $CO_2$ that is based on lots of different measurements. We will again start by downloading and visualizing this dataset in the code blocks below."
   ]
  },
  {
   "cell_type": "markdown",
   "metadata": {
    "id": "quZUtbMQFH7C"
   },
   "source": [
    "First we will download the data and order the data from young to old:"
   ]
  },
  {
   "cell_type": "code",
   "execution_count": null,
   "metadata": {
    "id": "XCMJFdev2HYK"
   },
   "outputs": [],
   "source": [
    "# alternative version, load the actual proxy data and not the smoothed 100k curve\n",
    "\n",
    "# load CO2 proxy data\n",
    "fn = \"https://github.com/SPATIAL-Lab/CenoCO2/raw/refs/heads/main/data/231218_proxies.xlsx\"\n",
    "dfc = pd.read_excel(fn)\n",
    "\n",
    "dfc[\"ages\"] = dfc[\"age_Ma\"]\n",
    "\n",
    "dfc[\"CO2\"] = dfc[\"CO2_ppm\"]\n",
    "\n",
    "# sort the dataset to make sure it goes from young to old ages\n",
    "dfc = dfc.sort_values(by=\"ages\")"
   ]
  },
  {
   "cell_type": "markdown",
   "metadata": {
    "id": "3eEWo4yTFNVw"
   },
   "source": [
    "And then we will see what the $CO_2$ data look like. We also plot the paleotemperature data again to see if $CO_2$ and temperature correlate as well as they did in the historic temperature record in the previous exercise:"
   ]
  },
  {
   "cell_type": "code",
   "execution_count": null,
   "metadata": {
    "colab": {
     "base_uri": "https://localhost:8080/",
     "height": 468
    },
    "id": "Ye--oA-zYwvm",
    "outputId": "06a97184-1daa-4dbf-bcf3-aab71a41a040"
   },
   "outputs": [],
   "source": [
    "# create a figure\n",
    "fig, ax = pl.subplots(1, 1)\n",
    "\n",
    "# plot the paleotemperature data\n",
    "l1, = ax.plot(dft[\"age_tuned\"], dft[\"dTs\"], label=\"Temperature\", color=\"black\", lw=0.5)\n",
    "\n",
    "# create a second x-axis and plot the CO2 data\n",
    "axr = ax.twinx()\n",
    "l2, = axr.plot(dfc[\"ages\"], dfc[\"CO2\"], label=r\"$CO_2$\", marker=\".\", lw=1.0)\n",
    "\n",
    "# add labels to the x and y-axis\n",
    "axr.set_ylabel(r\"$CO_2$ (ppm)\", color=\"tab:blue\")\n",
    "ax.set_ylabel(\"Temperature difference with present (degr. C)\")\n",
    "ax.set_xlabel(\"Millions of years before present\")\n",
    "\n",
    "# flip the x-axis to make sure age left is old and right-hand side is young\n",
    "ax.set_xlim(max_age, 0)\n",
    "\n",
    "# add a legend\n",
    "ax.legend([l1, l2], [\"temperature\", r\"$CO_2$\"])\n",
    "\n",
    "ax.axvline(x=56.0)"
   ]
  },
  {
   "cell_type": "markdown",
   "metadata": {
    "id": "O-422VJcgstO"
   },
   "source": [
    "By looking at the figure above we can make a first conclusion that the higher temperatures that our planet has experienced in the past were accompanied by much higher $CO_2$ levels in the atmopshere. However, the if we look in detail the relation between $CO_2$ and temperature looks a bit more complicated. To make sense of these data we will dive into a quantitative analysis in the remainder of this notebook"
   ]
  },
  {
   "cell_type": "markdown",
   "metadata": {
    "id": "5tbphHOXGTBh"
   },
   "source": [
    "## 1.3 Joining the temperature and $CO_2$ data:\n",
    "\n",
    "The paleotemperature and paleo-CO2 data are contained in different dataframes, called `dft` and `dfc`. Both have a quite different temporal resolution. Lets check how many datapoints each dataset has:"
   ]
  },
  {
   "cell_type": "code",
   "execution_count": null,
   "metadata": {
    "colab": {
     "base_uri": "https://localhost:8080/"
    },
    "id": "ocf5GNsPGvkR",
    "outputId": "8aae16cc-4e8a-4b0d-c79b-cbec4c81a393"
   },
   "outputs": [],
   "source": [
    "dft.shape, dfc.shape"
   ]
  },
  {
   "cell_type": "markdown",
   "metadata": {
    "id": "AFlyFLMMG3cM"
   },
   "source": [
    "The `.shape` command above shows the size of the dataframes. The paleotemperature dataframe is by far the largest, with 24259 rows. The paleo-$CO_2$ dataframe is much smaller, with just 1564 rows.\n",
    "\n",
    "Next we will merge the two datasets, by adding $CO_2$ data to the paleotemperature dataframe, and by adding paleotemperature to the $CO_2$ dataframe. This is necessary so that we can compare temperature and $CO_2$ values later on in this exercise.\n",
    "\n",
    "We will also limit our analyses to the last 56.0 million years, because there are too few $CO_2$ datapoints for the time period before 56 million years to make any meaningful analysis."
   ]
  },
  {
   "cell_type": "code",
   "execution_count": null,
   "metadata": {
    "id": "8JMEi_waIlAg"
   },
   "outputs": [],
   "source": [
    "# interpolate the CO2 values to the ages of the paleotemperature dataframe\n",
    "co2_w = np.interp(dft[\"age_tuned\"].values, dfc[\"ages\"].values, dfc[\"CO2\"].values)\n",
    "dft[\"CO2\"] = co2_w\n",
    "\n",
    "# select the last 56 million years only\n",
    "idx = dft[\"age_tuned\"] < 56.0\n",
    "dft = dft.loc[idx]\n",
    "\n",
    "# interpolate the paleotemperatures to the ages in the paleoCO2 dataframe\n",
    "T_c = np.interp(dfc[\"ages\"].values, dft[\"age_tuned\"].values, dft[\"GMST (oC)\"])\n",
    "dfc[\"dTs\"] = T_c\n",
    "\n",
    "# select the last 56 million years only\n",
    "idx = dfc[\"ages\"] < 56.0\n",
    "dfc = dfc.loc[idx]\n",
    "\n",
    "# get the oldest age in the dataset\n",
    "max_age = dft[\"age_tuned\"].max()"
   ]
  },
  {
   "cell_type": "markdown",
   "metadata": {
    "id": "zIcesHL6I6cQ"
   },
   "source": [
    "ok, now we're done with reading the data and merging the temperature and $CO_2$ data and we can proceed with doing some data analysis and science in the next sections of this exercise."
   ]
  },
  {
   "cell_type": "markdown",
   "metadata": {
    "id": "u94k0xlN385K"
   },
   "source": [
    "---\n",
    "\n",
    "# Section 2: Analysing trends in temperature and $CO_2$ for the last 66 million years\n",
    "\n",
    "We are first going to focus on analysis of the entire temperature and $CO_2$ history for the last 66 million years. This section follows the methods that you have learned in exercise 1a, it just applies them to a different dataset and a very different timescale."
   ]
  },
  {
   "cell_type": "markdown",
   "metadata": {
    "id": "mdMlkxBPGERr"
   },
   "source": [
    "# 2.1 Trends in paleotemperature\n",
    "\n",
    "Lets first see if the trend that one can see in the temperature data figure that we made earlier is also statistically valid. We will apply a linear regression again. But before that we do this we will try something new, *a [non-parametric test](https://en.wikipedia.org/wiki/Nonparametric_statistics)*.\n"
   ]
  },
  {
   "cell_type": "markdown",
   "metadata": {
    "id": "OpNfTpOXYfcl"
   },
   "source": [
    "### 2.1.1 Non-parametric test\n",
    "\n",
    "A non-parametric a test can be used to find out if there is any statistical trend at all in the data, without making an assumption whether this trend should be linear, powerlaw or otherwise. For climate data the best test method is the [Mann-Kendall test](https://en.wikipedia.org/wiki/Kendall_rank_correlation_coefficient), which, as usual, is [implemented in python in the library scipy](https://docs.scipy.org/doc/scipy/reference/generated/scipy.stats.kendalltau.html). Below we use this test to check whether there is a correlation between geological age and temperature:\n"
   ]
  },
  {
   "cell_type": "code",
   "execution_count": null,
   "metadata": {
    "colab": {
     "base_uri": "https://localhost:8080/"
    },
    "id": "C3HGWf9Gl9r-",
    "outputId": "192444f5-d336-4129-fa52-0c9fcf1f5eaf"
   },
   "outputs": [],
   "source": [
    "# import the scipy.stats module\n",
    "import scipy.stats\n",
    "\n",
    "# run the Mann-Kendall test on the paleotemperature data\n",
    "mkt = scipy.stats.kendalltau(dft[\"age_tuned\"], dft[\"dTs\"])\n",
    "\n",
    "# show the results of the Mann-Kendall test\n",
    "print(mkt)"
   ]
  },
  {
   "cell_type": "markdown",
   "metadata": {
    "id": "L8t1Rabfmgfj"
   },
   "source": [
    "The result of the Mann-Kendall test above tells us that there is a positive correlation between age and paleotemperature with a correlation coefficient of 0.78. For reference, 0.0 would be no correlation and 1.0 would be a perfect correlation. This relation is also statistically valid, the null-hypothesis (that the correlation is due to random noise) has a probability of 0.0."
   ]
  },
  {
   "cell_type": "markdown",
   "metadata": {},
   "source": [
    "### 2.1.3: Which models are good and which is best?\n",
    "\n",
    "Before we go further with analysing trends in the temperature data over the last 56 million years, we will first get to know two new metrics that can be used to evaluate how well a model fits the temperature data.\n",
    "\n",
    "We saw in exercise 1a that we had several different models to quantify the long-term trend in the global temperature data. Each model had a different $R^2$ value. At first sight we might be tempted to simply select the model with the highest $R^2$ value as the best model. However this is not entirely a fair way of selecting the best model. Imagine if we had used the piecewise linear model, but had increased the amount of segments to 1000. After a lot of number crunching the algorithm would come up with a near perfect model, where almost every temperature datapoint has its own line segment that overlies each datapoint. This model will obviously have a very high $R^2$ that would be close to 1.0, because it fits the data perfectly. It however also requires a 1000 input parameter values. And its value in predicting future warming may be very limited, because these 1000 parameters are exactly tuned to the data but may not be very helpful in predicting future temperature. Such a model is a case of a model that is *overfitted* (https://en.wikipedia.org/wiki/Overfitting).\n",
    "\n",
    "Form a science philosophy viewpoint, scientific models and theories should follow Occam's razor (https://en.wikipedia.org/wiki/Occam%27s_razor), which is usually summarized as \"The simplest explanation is usually the best one\". Or in our case, the model with the least unnecessary assumptions is the best one. Therefore, we should in principle select the simplest model that fits the data well, i.e. a good model with a low number of parameters. However this raises a question which model should be rated best, the simple linear regression with just two parameters, but a poor fit to the data, or a more complex model with more parameters, but a better fit?\n",
    "\n",
    "To avoid overfitting we can resort to alternative metrics that take into account the complexity of a model. We will use two metrics here, the [Akaike information criterion](https://en.wikipedia.org/wiki/Akaike_information_criterion) or AIC and the [Bayesian information criterion](https://en.wikipedia.org/wiki/Bayesian_information_criterion) or BIC. Both AIC and BIC take into account the model error or residual, i.e., how far off the model is from the data, and the number of parameters that a model requires.\n",
    "\n",
    "The Akaike information criterion is calculated as follows:\n",
    "\n",
    "$$AIC = N \\ln \\left( \\dfrac{RSS}{N} \\right)+ 2 K$$\n",
    "\n",
    "where $N$ is the number of observations or datapoints, $K$ is the number of parameters and $RSS$ is the sum of the squared residuals, which is calculated by comparing each datapoint to the model prediction, squaring this and then summing all squared residuals:\n",
    "\n",
    "$$RSS = \\sum{(y_p - y)^2}$$\n",
    "\n",
    "Where $y_p$ is the value predicted by the model and $y$ is the actual data. The Bayesian information criterion is calculated in a similar way, but with a slightly different weight for the importance of the number of parameters vs the model error:\n",
    "\n",
    "$$BIC = N \\ln \\left( \\dfrac{RSS}{N} \\right)+ \\ln{N} K$$\n",
    "\n",
    "The BIC metric tends to assign a higher importance to the number of parameters (K) in most cases, because $\\ln{N}$ is often higher than 2. For both metrics the model that has the lowest AIC or BIC score is the best, because both a high model error (RSS) or a high number of parameters (K) increase the score, and the ideal model has a low model error (i.e. a low difference between the prediction and the data), and a low number of parameters.\n",
    "\n",
    "Feel free to use either of these two metrics in the rest of this exercise. There is an ongoing debate in the statistics community on which one is better, but for now it seems a matter of personal preference. If you want to read more about this you can check [this paper by Ding et al. (2018)](https://ieeexplore.ieee.org/abstract/document/8498082) (which is addmittedly not the easiest paper to read, but very informative)."
   ]
  },
  {
   "cell_type": "markdown",
   "metadata": {},
   "source": [
    "We will first set up two functions to calculate AIC and BIC. Functions are small blocks of code that take in one or more variables, do something with these and then give back variables after they're done. In this case the functions takes the temperature data, the predicted values and the number of parameters, and then returns the AIC or BIC value"
   ]
  },
  {
   "cell_type": "code",
   "execution_count": null,
   "metadata": {},
   "outputs": [],
   "source": [
    "# set up two functions to calculate AIC and BIC\n",
    "\n",
    "# the next line sets up a function called AIC that takes in three variables: data, prediction and number_of_params\n",
    "def AIC(data, prediction, number_of_params):\n",
    "\n",
    "    # the following line calculates the number of data points (N)\n",
    "    N = len(data)\n",
    "\n",
    "    # the following line calculates the residual sum of squares (RSS)\n",
    "    RSS = np.sum((data - prediction)**2)\n",
    "\n",
    "    # create a new variable K that is equal to number_of_params\n",
    "    K = number_of_params\n",
    "\n",
    "    # the following line calculates the AIC value\n",
    "    # note that np.log(..) is the natural logarithm (base e)\n",
    "    AIC_value = N * np.log(RSS / N) + 2 * K\n",
    "\n",
    "    # the function then returns the calculated AIC value\n",
    "    return AIC_value\n",
    "\n",
    "\n",
    "def BIC(data, prediction, number_of_params):\n",
    "\n",
    "    N = len(data)\n",
    "\n",
    "    RSS = np.sum((data - prediction)**2)\n",
    "\n",
    "    K = number_of_params\n",
    "\n",
    "    # complete the line of code below to calculate BIC, and remove the #\n",
    "    # see the formula in the notebook cell above, and see the AIC function above to check how to do this\n",
    "    #BIC_value= ....\n",
    "\n",
    "    return BIC_value"
   ]
  },
  {
   "cell_type": "markdown",
   "metadata": {},
   "source": [
    "Next, we will test if the two functions work by calculating the AIC and BIC for two test cases. One in which a model fits the data perfectly (this actually never happens in geosciences, but its a test), and a second one in which the model prediction is completely random (this can actually happen in the geosciences, and means there is no relation between the model and the data). "
   ]
  },
  {
   "cell_type": "code",
   "execution_count": null,
   "metadata": {},
   "outputs": [],
   "source": [
    "perfect_model = dft[\"dTs\"] + 1e-6\n",
    "# create a set of random numbers that follow a standard normal (Gaussian) distribution, with the same length as the temperature dataset\n",
    "# see here for more info https://numpy.org/doc/2.2/reference/random/index.html#random-quick-start\n",
    "rng = np.random.default_rng()\n",
    "random_numbers = rng.standard_normal(len(dft))\n",
    "\n",
    "# multiply with the standard deviation of the temperature data and add the mean of the temperature data\n",
    "# np.std(..) calculates the standard deviation, np.mean(..) calculates the mean\n",
    "random_model = random_numbers * np.std(dft[\"dTs\"]) + np.mean(dft[\"dTs\"])\n",
    "\n",
    "fig, ax = pl.subplots(1, 1)\n",
    "ax.scatter(dft[\"dTs\"], perfect_model, label=\"perfect model\", color=\"black\", s=1)\n",
    "ax.scatter(dft[\"dTs\"], random_model, label=\"random model\", color=\"red\", s=1)\n",
    "\n",
    "ax.set_xlabel(\"data\")\n",
    "ax.set_ylabel(\"model prediction\")\n",
    "ax.legend()"
   ]
  },
  {
   "cell_type": "code",
   "execution_count": null,
   "metadata": {},
   "outputs": [],
   "source": [
    "AIC_perfect = AIC(dft[\"dTs\"], perfect_model, 1)\n",
    "BIC_perfect = BIC(dft[\"dTs\"], perfect_model, 1)\n",
    "\n",
    "# print the AIC and BIC values below this code block:\n",
    "print(\"AIC for the perfect model (lower is better) = \", AIC_perfect)\n",
    "print(\"BIC for the perfect model (lower is better) = \", BIC_perfect)\n",
    "\n",
    "\n",
    "AIC_random = AIC(dft[\"dTs\"], random_model, 1)\n",
    "BIC_random = BIC(dft[\"dTs\"], random_model, 1)\t\n",
    "# print the AIC and BIC values below this code block:\n",
    "print(\"AIC for the random model (lower is better) = \", AIC_random)\n",
    "print(\"BIC for the random model (lower is better) = \", BIC_random)"
   ]
  },
  {
   "cell_type": "markdown",
   "metadata": {},
   "source": [
    "you will notice that the code above will generate an error, because it is not complete yet. Your task in the next assignment is to complete the BIC function so that the code works and will not produce an error:"
   ]
  },
  {
   "cell_type": "markdown",
   "metadata": {},
   "source": [
    "# ASSIGNMENT 2.1: Complete the BIC function\n",
    "\n",
    "**Complete the BIC function above by completing the line where the BIC value is calculated (`#BIC = ...`) and adding the equation for the BIC value in place of the dots `...`.** After doing this rerun the code above to calculate the AIC and BIC values for the perfect and the random models"
   ]
  },
  {
   "cell_type": "markdown",
   "metadata": {
    "id": "ZNFNBKaG0h01"
   },
   "source": [
    "### 2.1.3 Linear regression\n",
    "\n",
    "Now that we learned of a new way to decide how good models are, let's see if we can quantify this trend between temperature and time that we observed in section 2.1.1, with a linear regression:"
   ]
  },
  {
   "cell_type": "code",
   "execution_count": null,
   "metadata": {
    "colab": {
     "base_uri": "https://localhost:8080/"
    },
    "id": "tfiR9CJt_6GR",
    "outputId": "f0268583-d2f5-4ea0-aaf0-3b3866b54ad6"
   },
   "outputs": [],
   "source": [
    "regr = scipy.stats.linregress(dft[\"age_tuned\"], dft[\"dTs\"])\n",
    "print(regr)\n",
    "print(f\"R^2 = {regr.rvalue**2}\")"
   ]
  },
  {
   "cell_type": "markdown",
   "metadata": {
    "id": "AeogNEmn_kOF"
   },
   "source": [
    "The results of the linear regression that are in the output above, tell us that there is a significant linear trend, with a decrease in temperature of 0.2 degrees C per million years. Let's show this in a figure again:"
   ]
  },
  {
   "cell_type": "code",
   "execution_count": null,
   "metadata": {
    "colab": {
     "base_uri": "https://localhost:8080/",
     "height": 467
    },
    "id": "U06z1fisoggn",
    "outputId": "f2e16ff8-4edd-42ef-f98b-b77fe688b5d3"
   },
   "outputs": [],
   "source": [
    "# calculate the temperature predicted by the regression model\n",
    "dft[\"temperature_linear_model\"] = dft[\"age_tuned\"] * regr.slope + regr.intercept\n",
    "\n",
    "# create a figure\n",
    "fig, ax = pl.subplots(1, 1)\n",
    "\n",
    "# plot the paleotemperature data\n",
    "ax.plot(dft[\"age_tuned\"], dft[\"dTs\"], label=\"temperature data\", color=\"black\", lw=0.5)\n",
    "\n",
    "# make a label for the figure legend\n",
    "linregress_label = f\"linear regression, y={regr.intercept:0.2f} + {regr.slope:0.2e} x \\n\"\n",
    "linregress_label += fr\"$R^2$={regr.rvalue**2:0.3f}, p={regr.pvalue:0.3f}\"\n",
    "\n",
    "# plot the result of the linear regression\n",
    "ax.plot(dft[\"age_tuned\"], dft[\"temperature_linear_model\"], label=linregress_label)\n",
    "\n",
    "# add labels to the x and y-axis\n",
    "ax.set_ylabel(\"Temperature difference with present (degr. C)\")\n",
    "ax.set_xlabel(\"Millions of years before present\")\n",
    "\n",
    "# flip the x-axis to make sure age left is old and right-hand side is young\n",
    "ax.set_xlim(max_age, 0)\n",
    "\n",
    "# add a legend\n",
    "ax.legend()"
   ]
  },
  {
   "cell_type": "markdown",
   "metadata": {
    "id": "_S10wqSQbR_b"
   },
   "source": [
    "We will also calculate the [Akaike (AIC)](https://en.wikipedia.org/wiki/Akaike_information_criterion) and [Bayesian (BIC)](https://en.wikipedia.org/wiki/Bayesian_information_criterion) information criterions, as we did in exercise 1a, to be able to compare different models with each other. The AIC and BIC values weight the performance of models against their complexity. Simple models (with low numbers of parameters) and models that fit the data well get low scores, and vice versa. For both AIC and BIC lower scores are better."
   ]
  },
  {
   "cell_type": "code",
   "execution_count": null,
   "metadata": {},
   "outputs": [],
   "source": [
    "# calculate AIC and BIC\n",
    "AIC_linear = AIC(dft[\"dTs\"], dft[\"temperature_linear_model\"], 2)\n",
    "BIC_linear = BIC(dft[\"dTs\"], dft[\"temperature_linear_model\"], 2)\n",
    "\n",
    "# print the AIC and BIC values:\n",
    "print(\"AIC for the linear model (lower is better) = \", AIC_linear)\n",
    "print(\"BIC for the linear model (lower is better) = \", BIC_linear)"
   ]
  },
  {
   "cell_type": "markdown",
   "metadata": {
    "id": "bloSpgBcRVu7"
   },
   "source": [
    "### 2.1.4 Multi-linear model\n",
    "\n",
    "Finally let us try out a multi-linear model. The bi-linear model was quite successful in explaining the trends in historic temperatures in exercise 1a. Lets see what it can do for us in quantifying trends in paleotemperatures.\n",
    "\n",
    "We first import the [pwlf module](https://github.com/cjekel/piecewise_linear_fit_py) again that we need for the bi-linear model:"
   ]
  },
  {
   "cell_type": "code",
   "execution_count": null,
   "metadata": {
    "colab": {
     "base_uri": "https://localhost:8080/"
    },
    "id": "X7yKg3sBRTyt",
    "outputId": "cd53e5eb-de69-4774-bd3b-4657070d81de"
   },
   "outputs": [],
   "source": [
    "%pip install pwlf"
   ]
  },
  {
   "cell_type": "markdown",
   "metadata": {
    "id": "8c7EvgPXYxK6"
   },
   "source": [
    "In contrast to exercise 1a, we will not only test the bi-linear model, but also models with more than two segments. For this we use a [for loop](https://github.com/dfbr/pythonLessons/blob/main/Lessons/loops.md) in the code block below. For more information on how for loops work you can revisit the Python workshop [here](https://github.com/dfbr/pythonLessons/blob/main/Lessons/loops.md).\n",
    "\n",
    "Note that the code block below might take a while because it tests multiple models, and because fitting a model with many segments obviously has many possibilities on where these segments are placed, and testing those takes time.\n",
    "\n",
    "Feel free to change the number of segments below by changing the numbers in the command `n_segments_list = np.arange(2, 5)`.\n",
    "\n",
    "However, please note that the code becomes extremely slow for more than five segments. We are running against computational limits here, even though our model is relatively simple. To fix this we would need better modules than pwlf, to rewrite this in a faster programming language like Julia, Fortran, C or C++, or to use better computing infrastructure. Of course, this is all a bit outside of the scope of this introduction course, so we will limit ourselves to models with a low number of segments."
   ]
  },
  {
   "cell_type": "code",
   "execution_count": null,
   "metadata": {
    "colab": {
     "base_uri": "https://localhost:8080/"
    },
    "id": "Ry-IoX5kXEGG",
    "outputId": "27482373-d532-401b-d0ba-ef168892103c"
   },
   "outputs": [],
   "source": [
    "# import the piecewise linear function module\n",
    "import pwlf\n",
    "\n",
    "# set up empty list to store the results later\n",
    "AICs_pwlf = []\n",
    "BICs_pwlf = []\n",
    "R2s_pwlf = []\n",
    "\n",
    "y_predicted_pwlfs = []\n",
    "\n",
    "# get the x and y variables from the dataframe\n",
    "x, y = dft[\"age_tuned\"].values, dft[\"dTs\"].values\n",
    "\n",
    "# set up the model\n",
    "my_pwlf = pwlf.PiecewiseLinFit(x, y)\n",
    "\n",
    "# create an array with the number of segments to try\n",
    "n_segments_list = np.arange(2, 4)\n",
    "\n",
    "# go through each item in the array in a for loop\n",
    "for n_segments in n_segments_list:\n",
    "\n",
    "  # fit the model to the data\n",
    "  # change the number between brackets to change the number of line segments\n",
    "  results_pwlf = my_pwlf.fit(n_segments)\n",
    "\n",
    "  # get the results\n",
    "  #b, a = results_pwlf\n",
    "\n",
    "  # get the predicted values\n",
    "  y_predicted = my_pwlf.predict(x)\n",
    "\n",
    "  print(f\"\\nTrying out a linear model with {n_segments} segments\")\n",
    "  print(f\"The parameters for the fitted piecewise linear model are {my_pwlf.beta}\")\n",
    "\n",
    "  # calculate the coefficient of determination (R2)\n",
    "  import sklearn.metrics\n",
    "  R2_pwlf = sklearn.metrics.r2_score(y, y_predicted)\n",
    "  print(f\"the R2 score for the piecewise linear model is {R2_pwlf}\")\n",
    "\n",
    "  # calculate the AIC and BIC values\n",
    "  AIC_pwlf = AIC(y, y_predicted, n_segments)\n",
    "  BIC_pwlf = BIC(y, y_predicted, n_segments)\n",
    "  print(\"AIC for the piecewise linear model (lower is better) = \", AIC_pwlf)\n",
    "  print(\"BIC for the piecewise linear model (lower is better) = \", BIC_pwlf)\n",
    "\n",
    "  # store all the results in lists\n",
    "  AICs_pwlf.append(AIC_pwlf)\n",
    "  BICs_pwlf.append(BIC_pwlf)\n",
    "  R2s_pwlf.append(R2_pwlf)\n",
    "  y_predicted_pwlfs.append(y_predicted)\n"
   ]
  },
  {
   "cell_type": "markdown",
   "metadata": {
    "id": "uoF_-DZYgOE4"
   },
   "source": [
    "Next we will visualize how well the models with the different number of segments did:"
   ]
  },
  {
   "cell_type": "code",
   "execution_count": null,
   "metadata": {
    "colab": {
     "base_uri": "https://localhost:8080/",
     "height": 714
    },
    "id": "iAyYHBd8dHC7",
    "outputId": "fb5b9843-3210-43ba-f20b-de9d3c9e548c"
   },
   "outputs": [],
   "source": [
    "# create a new figure\n",
    "fig, axs = pl.subplots(2, 1, figsize=(8, 8))\n",
    "\n",
    "# add a new y-axis on the right\n",
    "axr = axs[0].twinx()\n",
    "\n",
    "# plot the AIC and BIC vs the number of segments\n",
    "la, = axs[0].plot(n_segments_list[:len(AICs_pwlf)], AICs_pwlf, label=\"AIC\", lw=2.0)\n",
    "lb, = axs[0].plot(n_segments_list[:len(BICs_pwlf)], BICs_pwlf, label=\"BIC\", ls=\"--\")\n",
    "\n",
    "# plot the R2 value vs the number of segments\n",
    "lr, = axr.plot(n_segments_list[:len(R2s_pwlf)], R2s_pwlf, color=\"gray\", ls=\"--\")\n",
    "\n",
    "# add labels to the axes\n",
    "axr.set_ylabel(r\"$R^2$\", color=\"gray\")\n",
    "axs[0].set_ylabel(\"AIC / BIC\")\n",
    "axs[0].set_xlabel(\"Number of segments\")\n",
    "\n",
    "# add a legend\n",
    "axs[0].legend([la, lb, lr], [\"AIC\", \"BIC\", r\"$R^2$\"])\n",
    "\n",
    "## second subplot with the different models\n",
    "\n",
    "# plot paleotemperature\n",
    "axs[1].plot(dft[\"age_tuned\"], dft[\"dTs\"])\n",
    "\n",
    "# go through the predicted temeprature list for the different models\n",
    "for y_prediced_pwlf, n_segment in zip(y_predicted_pwlfs, n_segments_list):\n",
    "\n",
    "  # plot the predicted temperature\n",
    "  axs[1].plot(dft[\"age_tuned\"], y_prediced_pwlf, label=f\"{n_segment} segments\")\n",
    "\n",
    "# add a legend\n",
    "axs[1].legend()\n",
    "\n",
    "# add labels to the x and y-axis\n",
    "axs[1].set_ylabel(\"Temperature difference with present (degr. C)\")\n",
    "axs[1].set_xlabel(\"Millions of years before present\")\n",
    "\n",
    "# flip the x-axis to make sure age left is old and right-hand side is young\n",
    "axs[1].set_xlim(max_age, 0)"
   ]
  },
  {
   "cell_type": "code",
   "execution_count": null,
   "metadata": {},
   "outputs": [],
   "source": [
    "BICs_pwlf"
   ]
  },
  {
   "cell_type": "markdown",
   "metadata": {
    "id": "S2Uz4XAKgVMQ"
   },
   "source": [
    "Its clear from the figure above that models with more parameters / segments do better in reproducing trends in paleoclimate data over the last 66 million years. So in this case one could say that complicated models are better. Note that this is often not the case in earth science, simple models often perform better than more complicated models."
   ]
  },
  {
   "cell_type": "markdown",
   "metadata": {
    "id": "m_G7jqmZ3JGb"
   },
   "source": [
    "## 2.2 Correlation between $CO_2$ and paleotemperature\n",
    "\n",
    "Next, lets see what causes this long-term decline in temperature on earth. We saw in exercise 1a that temperature and $CO_2$ are closely correlated in the historic temperature and $CO_2$ data, which is not surprising because $CO_2$ is a powerful [greenhouse gas](https://en.wikipedia.org/wiki/Greenhouse_gas). Lets look at the $CO_2$ and paleotemperature data for the last 66 million years to see if this correlation can also be found in the older data:  "
   ]
  },
  {
   "cell_type": "markdown",
   "metadata": {
    "id": "5jY2VBfY6io6"
   },
   "source": [
    "We first perform linear regressions between temperature and $CO2$. In principle we should perform these regressions twice, one on the paleotemperature dataframe `dft`, which had a very dense time-interval, and one on the CO2 dataframe `dfc`, which only had one datapoint every 100,000 years. However, to keep things simple we will only use the $CO_2$ dataframe `dfc` here:"
   ]
  },
  {
   "cell_type": "code",
   "execution_count": null,
   "metadata": {
    "colab": {
     "base_uri": "https://localhost:8080/"
    },
    "id": "adXfafvs6ggv",
    "outputId": "b17ecbe3-b6cb-4661-b8e7-64a4d43bd717"
   },
   "outputs": [],
   "source": [
    "# perform the linear regression between CO2 (dfc[\"CO2\"]) and paleotemperature (dfc[\"dTs\"])\n",
    "regr_CT = scipy.stats.linregress(dfc[\"CO2\"], dfc[\"dTs\"])\n",
    "\n",
    "# show the results\n",
    "print(\"Regression results: \", regr_CT)\n",
    "print(\"The coefficient of determination for this regression is \", regr_CT.rvalue**2)"
   ]
  },
  {
   "cell_type": "markdown",
   "metadata": {
    "id": "L46gtRvp7IJb"
   },
   "source": [
    "As you can see in the results above, $CO_2$ and temperature are also correlated on geological timescales, with a high coefficient of determination, and a low p-value for the null-hypothesis. Let's visualize the relation between $CO_2$ and temperature:"
   ]
  },
  {
   "cell_type": "code",
   "execution_count": null,
   "metadata": {
    "colab": {
     "base_uri": "https://localhost:8080/",
     "height": 419
    },
    "id": "DrFWq5b_3OoI",
    "outputId": "87b12b96-a070-417f-eb9d-c5040d3d5527"
   },
   "outputs": [],
   "source": [
    "# calculate the regression line between CO2 and paleotemperature\n",
    "CO2_plot = np.linspace(dft[\"CO2\"].min(), dft[\"CO2\"].max(), 101)\n",
    "T_plot = regr_CT.slope * CO2_plot + regr_CT.intercept\n",
    "\n",
    "# uncomment and complete the following lines to calculate the regression line\n",
    "# for historic CO2 vs temperature\n",
    "# add the values for slope (a) and intercept (b) from exercise 1a here\n",
    "#a =\n",
    "#b =\n",
    "# calculate the regression for historic temperature\n",
    "#T_plot_historic = a * CO2_plot + b\n",
    "\n",
    "# create a figure\n",
    "fig, axs = pl.subplots(1, 2, sharey=True)\n",
    "\n",
    "# plot the CO2 and temperature data in the temperature dataframe\n",
    "sc1 = axs[0].scatter(dft[\"CO2\"], dft[\"dTs\"], c=dft[\"age_tuned\"], s=3)\n",
    "\n",
    "# plot the CO2 and temperature data in the CO2 dataframe\n",
    "sc2 = axs[1].scatter(dfc[\"CO2\"], dfc[\"dTs\"], c=dfc[\"ages\"], s=3)\n",
    "\n",
    "# add the regression lines to each plot\n",
    "for ax in axs:\n",
    "  ax.plot(CO2_plot, T_plot, label=\"Cenozoic\")\n",
    "\n",
    "  # uncomment the following line to show historic CO2 vs temperature regression\n",
    "  #ax.plot(CO2_plot, T_plot_historic, label=\"1980-2023\")\n",
    "\n",
    "# add labels\n",
    "for ax in axs:\n",
    "  ax.set_xlabel(r\"$CO_2$ (ppm)\")\n",
    "\n",
    "axs[0].set_ylabel(r\"Temperature anomaly\")\n",
    "\n",
    "# add a legend\n",
    "axs[1].legend()\n",
    "\n",
    "# add a colorbar\n",
    "cb = fig.colorbar(sc2, ax=axs, orientation=\"horizontal\")\n",
    "cb.set_label(\"Age (Ma)\")"
   ]
  },
  {
   "cell_type": "markdown",
   "metadata": {
    "id": "VRQMPDkYCOm_"
   },
   "source": [
    "# ASSIGNMENT 2.2: Add the historic CO2 vs temperature curve\n",
    "\n",
    "We have calculated the correlation between CO2 and temperature before in section 7 of exercise 1a. It would be interesting to see how the correlation that we found there compares to the one for the Cenozoic that we have calculated above.\n",
    "\n",
    "**Try to uncomment (remove #) and complete the lines in the code block above to add the historic CO2 vs temperature correlation to the figure above. Insert the values of slope (a) and intercept (b) of the regression between CO2 and temperature that you found in exercise 1a (Section 6, Quantifying the relation between global $CO_2$ and temperature)**\n",
    "\n"
   ]
  },
  {
   "cell_type": "markdown",
   "metadata": {},
   "source": [
    "# ASSIGNMENT 2.3: Compare the relation between CO2 and temperature in historic and paleoclimate data\n",
    "\n",
    "**Write a short text below to discuss if and how the historic and Cenozoic temperature vs CO2 correlations differ**\n"
   ]
  },
  {
   "cell_type": "markdown",
   "metadata": {
    "id": "l9EQ-OTbC-5-"
   },
   "source": [
    "---\n",
    "\n",
    "***Add your answer to Assignment 2.2 here...***\n",
    "\n",
    "---"
   ]
  },
  {
   "cell_type": "markdown",
   "metadata": {
    "id": "5vkjxYoB_lOG"
   },
   "source": [
    "## 2.2 A $CO_2$-based paleotemperature model\n",
    "\n",
    "As we have done in exercise 1a, we can use the correlation between CO2 and temperature to generate a model of paleotemperature. Below we first calculate the predicted temperature based on the results of the linear regression, and we then calculate the coefficient of determination ($R^2$) and the mean absolute error (MAE) to evaluate how well this model can predict paloetemperature:"
   ]
  },
  {
   "cell_type": "code",
   "execution_count": null,
   "metadata": {
    "colab": {
     "base_uri": "https://localhost:8080/"
    },
    "id": "U9ROY8jy2Pbg",
    "outputId": "f07d9920-6a02-474e-8db5-eed3a6c9ea7f"
   },
   "outputs": [],
   "source": [
    "import sklearn.metrics\n",
    "\n",
    "# calculate a model paleotemperature using the linear regression between temperature\n",
    "# and CO2\n",
    "dft[\"predicted_temperature\"] = dft[\"CO2\"] * regr_CT.slope + regr_CT.intercept\n",
    "\n",
    "# calculate the mean absolute error for the temperature model\n",
    "MAE_CT = np.mean(np.abs((dft[\"predicted_temperature\"] - dft[\"dTs\"])))\n",
    "\n",
    "# calculate the coefficient of determination for the modelled temperature\n",
    "R2_CT = sklearn.metrics.r2_score(dft[\"dTs\"].values, dft[\"predicted_temperature\"].values)\n",
    "\n",
    "# calculate the coefficient of determination for the modelled temperature\n",
    "AIC_CT = AIC(dft[\"dTs\"].values, dft[\"predicted_temperature\"].values, 3)\n",
    "BIC_CT = BIC(dft[\"dTs\"].values, dft[\"predicted_temperature\"].values, 3)\n",
    "\n",
    "# report the mean absolute error, the R2 value, AIC and BIC\n",
    "print(f\"Mean absolute error for the CO2-based paleotemperature model = {MAE_CT} degrees C\")\n",
    "print(f\"R^2 for the CO2-based paleotemperature model = {R2_CT}\")\n",
    "print(f\"AIC for the CO2-based paleotemperature model = {AIC_CT}\")\n",
    "print(f\"BIC for the CO2-based paleotemperature model = {BIC_CT}\")\n"
   ]
  },
  {
   "cell_type": "markdown",
   "metadata": {
    "id": "R0PbhojSDBLu"
   },
   "source": [
    "Before we proceed, lets first visualize our new paleotemperature model."
   ]
  },
  {
   "cell_type": "code",
   "execution_count": null,
   "metadata": {
    "colab": {
     "base_uri": "https://localhost:8080/",
     "height": 468
    },
    "id": "HAXBfVof2asM",
    "outputId": "4a3baa65-99ac-4398-9c7f-924120e15006"
   },
   "outputs": [],
   "source": [
    "# create a figure\n",
    "fig, ax = pl.subplots(1, 1)\n",
    "\n",
    "# plot the paleotemperature data\n",
    "lt, = ax.plot(dft[\"age_tuned\"], dft[\"dTs\"], color=\"black\", lw=0.5)\n",
    "\n",
    "# plot the modelled temperature\n",
    "lm, = ax.plot(dft[\"age_tuned\"], dft[\"predicted_temperature\"],\n",
    "        color=\"tab:orange\", lw=1.0)\n",
    "\n",
    "# create a second x-axis and plot the CO2 data\n",
    "axr = ax.twinx()\n",
    "lc, = axr.plot(dfc[\"ages\"], dfc[\"CO2\"], label=r\"$CO_2$\", color=\"tab:blue\", lw=1.0)\n",
    "\n",
    "# add labels to the x and y-axis\n",
    "axr.set_ylabel(r\"$CO_2$ (ppm)\", color=\"tab:blue\")\n",
    "ax.set_ylabel(\"Temperature difference with present (°C)\")\n",
    "ax.set_xlabel(\"Millions of years before present\")\n",
    "\n",
    "# flip the x-axis to make sure age left is old and right-hand side is young\n",
    "ax.set_xlim(max_age, 0)\n",
    "\n",
    "# add a legend:\n",
    "label1 = \"Reconstructed temperature\"\n",
    "label2 = r\"$CO_2$\"\n",
    "label3 = \"Modelled temperature,\\n\"\n",
    "label3 += fr\"MAE={MAE_CT:0.1f}°C, $R^2$={R2_CT:0.2f}\"\n",
    "ax.legend([lt, lc, lm], [label1, label2, label3])"
   ]
  },
  {
   "cell_type": "markdown",
   "metadata": {
    "id": "W8oBSlaVDHKR"
   },
   "source": [
    "As you can see in the output below the code blocks above, the $CO_2$-based temperature model has a decent $R^2$ value. However, visually the fit of the temperature model to the data does not look great, and the mean absolute error is relatively high. In addition, the model performs worse than other models in section 2.1, because it shows higher values of AIC and BIC.\n",
    "\n",
    "The reason for the poor performance of the model can be seen in the cross-plot figure of temperature and $CO_2$ in section 2.2. There are sections where temperature and $CO_2$ are strongly correlated. However, there are also parts of the figure where the data seem to follow a horizontal line, where $CO_2$ changes, but temperature does not react. These regions where climate remains stable in spite of changes in $CO_2$ cluster around temperatures of 4 degrees and 13 degrees."
   ]
  },
  {
   "cell_type": "markdown",
   "metadata": {
    "id": "2Wdi_QCcyOif"
   },
   "source": [
    "# ASSIGNMENT 2.4: Answer research questions on paleoclimate\n",
    "\n",
    "In the sections 2 and 3 we have learned quite a number of things about paleoclimate in the last 56 million years. Here you will try to summarize these findings by answering a number of research questions on paleoclimate. **Try to answer each of the research questions below**:\n",
    "\n",
    "1. Is there a long-term trend in climate in the last 56 million years?\n",
    "2. What model best describes the long-term trend of paleoclimate?\n",
    "3. What is the relation between climate and $CO_2$ in the Cenozoic?\n",
    "4. To what extent can changes in $CO_2$ explain climate change in the Cenozoic?\n",
    "5. Is the relation between $CO_2$ and climate similar or different than in the historic dataset from exercise 1a?\n",
    "\n",
    "Provide your answer in the text block below. **Motivate your answers** and explain how the data analysis that was performed in section 2 and 3 supports your answer. Note that you are not expected to start new analyses to answer these questions (although you are welcome to expand the analyses if you like of course)."
   ]
  },
  {
   "cell_type": "markdown",
   "metadata": {
    "id": "uItY_xTn3yO6"
   },
   "source": [
    "---\n",
    "\n",
    "***Add your answer to the research questions from Assignment 2.4 here. Make sure to give each answer the same number as the corresponding question, and write each answer in a separate paragraph, separated from the preceding paragraph by an empty line***\n",
    "\n",
    "---"
   ]
  },
  {
   "cell_type": "markdown",
   "metadata": {
    "id": "b4X4NvPT4sze"
   },
   "source": [
    "# ASSIGNMENT 2.5 (optional): Research questions on the processes that control paleoclimate\n",
    "\n",
    "***Note: this assignment is not compulsory, but provides an extra challenge if you have time left in this exercise.***\n",
    "\n",
    "If all went well you have answered a number of research questions about Cenozoic climate in the previous assignment. However, these answers still leave a major underlying question unanswered, why did Cenozoic climate change the way it did? We can go one step further and combine your analysis with a search of the scientific literature to try to answer this question. To make things a bit easier, we will split our research into two different questions:\n",
    "\n",
    "1. What can explain the trend in paleotemperature in the Cenozoic?\n",
    "2. What can explain the relation between $CO_2$ and paleotemperature in the Cenozoic?\n",
    "\n",
    "These are all quite difficult questions to answer, but we do not have to answer these questions fully here, any progress we can make towards finding an answer is good.\n",
    "\n",
    "Thankfully the scientific literature does contain some answers to these questions. So let's try to use and learn from the work that other researchers have done on these questions.\n",
    "\n",
    "You may be surprised (or not), that the most practical way to start to look for answers to these research questions is to fist check Wikipedia (for example see \"Climate\" [here](https://en.wikipedia.org/wiki/Cenozoic)) or Copilot.\n",
    "\n",
    "The answers that Wikipedia or Copilot they provide are based on scientific research. The main way for researchers to share their findings is by describing these findings in [scientific papers](https://en.wikipedia.org/wiki/Academic_publishing#Scholarly_paper). Wikipedia or Copilot will provide you with links or citations of these papers. You can also search for these papers yourself, using a specialized scientific search website like [https://scholar.google.com/](https://scholar.google.com/).\n",
    "\n",
    "For this particular question two very helpful scientific papers are [Zachos et al. (2001)](https://doi.org/10.1126/science.1059412) and [Westerhold et al. (2022)](https://doi.org/10.1126/science.aba6853).\n",
    "\n",
    "To avoid spending too much time on reading these papers I would suggest reading the abstract and conclusions, and having a look at the figures first, to see if they actually discuss something that you need. And only then try to go through the text if you need more information.\n",
    "\n",
    "Make sure to give each answer the same number as the corresponding question, and write each answer in a separate paragraph, separated from the preceding paragraph by an empty line*"
   ]
  },
  {
   "cell_type": "markdown",
   "metadata": {
    "id": "W3FLffZb8EVJ"
   },
   "source": [
    "---\n",
    "\n",
    "***Add your answer to the research questions of bonus assignment 2.5 here***\n",
    "\n",
    "---"
   ]
  },
  {
   "cell_type": "markdown",
   "metadata": {
    "id": "AdfU9AG-4IpM"
   },
   "source": [
    "# Section 3: Climate change in the Quaternary\n",
    "\n",
    "\n",
    "In this section we will confine our data analysis to a short, but important geological period, the Quaternary. This period started 2.58 million years ago, and we currently still live in this period.\n",
    "\n",
    "We currently (thankfully) live in the Holocene, which is an interglacial, a period in the Quaternary with relatively high temperatures and a low coverage of ice sheets. The Quaternary was dominated by rhythmic changes between glacial stages, where large parts of Norway were covered by ice sheets, and interglacials.\n",
    "\n",
    "In this part of the exercise we will analyze paleo-temperature and paleo-$CO_2$ data from the Quaternary to study climate change in geological history.\n",
    "\n",
    "In contrast to the earlier sections of this notebook, for this notebook you will perform most of the analyses yourself. However, the code that you need for this is already contained in section 2 and 3. You only need to copy the code and make a minor adjustment so that you apply this code to study the Quaternary, instead of the entire 56 million year history of the earth."
   ]
  },
  {
   "cell_type": "markdown",
   "metadata": {
    "id": "aCLWx7PjEkB7"
   },
   "source": [
    "## 3.1: Research questions on Quaternary climate history\n",
    "\n",
    "In this part of this exercise we will try to answer the following research questions:\n",
    "\n",
    "1. Is there a long-term trend in Quaternary climate?\n",
    "2. What model best describes the long-term trend of Quaternary climate?\n",
    "3. What is the relation between climate and $CO_2$ in the Quaternary?\n",
    "4. To what extent can changes in $CO_2$ explain climate change in the Quaternary?\n",
    "5. Is the relation between $CO_2$ and climate similar or different than in the historic dataset from exercise 1a or the Cenozoic data?"
   ]
  },
  {
   "cell_type": "markdown",
   "metadata": {
    "id": "Ss-bdPqF3zSN"
   },
   "source": [
    "## 3.2 Selecting data for your geological timeslice\n",
    "\n",
    "To analyse the climate history of the Quaternary, we first have to select the data only for the Quaternary. We will do this both for the paleotemperature dataframe `dft` and the paleo-CO2 dataframe `dfc` in the code block below. The code below will limit these two datasets to the time period between 0 and `max_age`"
   ]
  },
  {
   "cell_type": "code",
   "execution_count": null,
   "metadata": {
    "id": "hldI8KDw4VOh"
   },
   "outputs": [],
   "source": [
    "# set the maximum age that we want to keep in the new dataset\n",
    "#max_age = ....\n",
    "\n",
    "# select part of the temperature dataset\n",
    "idx = dft[\"age_tuned\"] < max_age\n",
    "dft = dft.loc[idx]\n",
    "\n",
    "# select part of the CO2 dataset for the same time period\n",
    "idx = dfc[\"ages\"] < max_age\n",
    "dfc = dfc.loc[idx]"
   ]
  },
  {
   "cell_type": "markdown",
   "metadata": {},
   "source": [
    "# ASSIGNMENT 3.1: Selecting data from the Quaternary only\n",
    "\n",
    "Look up the age of the Quaternary, uncomment (remove #) the line containing max_age and make sure that the code above limits the data to the Quaternary"
   ]
  },
  {
   "cell_type": "markdown",
   "metadata": {
    "id": "-coBFvIPBXWl"
   },
   "source": [
    "# ASSIGNMENT 3.2: Redo the trend analyses for the Quaternary\n",
    "\n",
    "1. **The next assignment is to first copy-paste all code blocks from section 2 below.** You can find the commands to copy and past code blocks (or cells as google colab calls them) under Edit at the top of this notebook. Note that you can select multiple code blocks by holding the shift key. **Make sure that the code blocks are in the same order as in section 2**\n",
    "2. **Redo all analyses that you have done for the Quaternary only by running the code blocks that you have pasted and updated below.**\n"
   ]
  },
  {
   "cell_type": "markdown",
   "metadata": {
    "id": "Q1XGKWvrFRWK"
   },
   "source": [
    "# ASSIGNMENT 3.3: Answer the research questions\n",
    "\n",
    "Now that you have finished the data analysis of Quaternary climate, let's see what we can learn from the results of the analysis. **Formulate an answer for each of the research questions of section 3.1 in the text block below**. Base all your answer on the results of your analysis of the data."
   ]
  },
  {
   "cell_type": "markdown",
   "metadata": {
    "id": "tSLRAArjL0wD"
   },
   "source": [
    "---\n",
    "\n",
    "***Add your answer to the research questions from section 3.1 here. Make sure to give each answer the same number as the corresponding question, and write each answer in a separate paragraph, separated from the preceding paragraph by an empty line***\n",
    "\n",
    "---"
   ]
  },
  {
   "cell_type": "markdown",
   "metadata": {
    "id": "RbueiZFxMjGS"
   },
   "source": [
    "# ASSIGNMENT 3.4 (optional): Research questions on the processes that control Quaternary climate\n",
    "\n",
    "***Note: this assignment is not compulsory, but provides some extra challenge if you have time left in this exercise.***\n",
    "\n",
    "If all went well you have answered a number of research questions about Quaternary climate in the previous assignment. However, these answers still leave a major underlying question unanswered, why did Quaternary climat echange the way it did? We can go one step further and combine your analysis with a search of the scientific literature to try to answer this question. To make things a bit easier, we will split our research into three different questions:\n",
    "\n",
    "1. What can explain the trend or absence of trends in paleotemperature in the Quaternary?\n",
    "2. What can explain the relation between $CO_2$ and paleotemperature in the Quaternary?\n",
    "\n",
    "These are all quite difficult questions to answer, but we do not have to answer these questions fully here, any progress we can make towards finding an answer is good.\n",
    "\n",
    "Thankfully the scientific literature does contain some answers to these questions. So let's try to use and learn from the work that other researchers have done on these questions.\n",
    "\n",
    "You may be surprised (or not), that the most practical way to start to look for answers to these research questions is to fist check Wikipedia (for example see \"Climate\" [here](https://en.wikipedia.org/wiki/Quaternary)) or Copilot.\n",
    "\n",
    "The answers that Wikipedia or Copilot they provide are based on scientific research. The main way for researchers to share their findings is by describing these findings in [scientific papers](https://en.wikipedia.org/wiki/Academic_publishing#Scholarly_paper). Wikipedia or Copilot will provide you with links or citations of these papers. You can also search for these papers yourself, using a specialized scientific search website like [https://scholar.google.com/](https://scholar.google.com/).\n",
    "\n",
    "For this particular question two very helpful scientific papers are [Lisiecki and Raymo (2007)](https://doi.org/10.1016/j.quascirev.2006.09.005) and [Herbert (2023)](https://doi.org/10.1146/annurev-earth-032320-104209).\n",
    "\n",
    "To avoid spending too much time on reading these papers I would suggest reading the abstract and conclusions, and having a look at the figures first, to see if they actually discuss something that you need. And only then try to go through the text if you need more information."
   ]
  },
  {
   "cell_type": "markdown",
   "metadata": {
    "id": "NJZyIR4m3rJj"
   },
   "source": [
    "---\n",
    "\n",
    "***Add your answer to the research questions of bonus assignment 4.4 here. Make sure to give each answer the same number as the corresponding question, and write each answer in a separate paragraph, separated from the preceding paragraph by an empty line***\n",
    "\n",
    "---"
   ]
  },
  {
   "cell_type": "markdown",
   "metadata": {
    "id": "BGpBpVc28N5X"
   },
   "source": [
    "# Done!\n",
    "\n",
    "That's it, you have finished this exercise. However, before you hand this in, make sure the entire notebook works and does not generate funny results by choosing \"Restart session and run all\" from the \"runtime\" drop-down menu item above, and then inspect all the results, and try to fix any error messages or weird results that turn up. \n",
    "\n",
    "We hope you enjoyed this exercise. In the process you have looked back into geological history, learned how temperature and $CO_2$ history are reconstructed, looked at trends in Cenozoic and Quaternary climate, and tried to explain these. In addition, you have improved your data analysis skills and added non-parametric correlation tests and metrics to judge how well models perform to your portfolio. And finally you have seen the Python code to do this, which you can recycle in the future for your own research or data analysis projects.\n",
    "\n",
    "Next week we will start a new exercise in which we will look at earthquake data from the subsurface. Here we will learn more about earthquakes, the structure of the upper part of the earth's subsurface. And we will learn even more data analysis skills. See you next thursday!"
   ]
  }
 ],
 "metadata": {
  "colab": {
   "provenance": []
  },
  "kernelspec": {
   "display_name": "py313",
   "language": "python",
   "name": "python3"
  },
  "language_info": {
   "codemirror_mode": {
    "name": "ipython",
    "version": 3
   },
   "file_extension": ".py",
   "mimetype": "text/x-python",
   "name": "python",
   "nbconvert_exporter": "python",
   "pygments_lexer": "ipython3",
   "version": "3.13.7"
  }
 },
 "nbformat": 4,
 "nbformat_minor": 4
}
