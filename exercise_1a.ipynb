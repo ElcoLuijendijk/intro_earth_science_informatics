{
 "cells": [
  {
   "cell_type": "markdown",
   "id": "37f7bedb-3295-4b93-87a8-8d0f831cba95",
   "metadata": {
    "id": "37f7bedb-3295-4b93-87a8-8d0f831cba95"
   },
   "source": [
    "# Exercise 1a: Analysis of global temperature from 1850 to present\n",
    "\n"
   ]
  },
  {
   "cell_type": "markdown",
   "id": "680e5a53",
   "metadata": {},
   "source": [
    "## Introduction\n",
    "\n",
    "An important part of earth science is trying to look back into time to figure out what happened to our planet through geological history. For the more recent history earth science relies on historical measurements. However for going deeper into history earth science relies on extracting information from old sediments and rocks that are exposed at the surface, or buried below the surface and accessed through boreholes.\n",
    "\n",
    "The goal of this first part of this module is to get familiar with the analysis of timeseries data, which is data that describes how something has varied over time. We will work with data that informs us how the climate on our small planet has changed.\n",
    "\n",
    "Before we dive into deep geological history, we will first visualize and analyze more recent global temperature data that covers the period from the year 1850 to present. We will work with this data to see if we can identify trends and rhythms (periodic changes) in this dataset. Once we master this we will move on to exercise 1b where we will perform the same analysis, but then on climate data that spans the last 65 million years of the history of our planet.\n",
    "\n",
    "This exercise was inspired by a classical paper by James Zachos and co-authors called \"[Trends, Rhythms, and Aberrations in Global Climate 65 Ma to Present](https://doi.org/10.1126/science.1059412)\". These authors were one of the first to look at the long-term climate history of our planet, and tried to identify trends, rhythms and abberations in the global climate data. We will follow their lead, but use newer and more extensive data for our analysis.\n",
    "\n",
    "In this exercise you will learn more about earth science, in particular climate history, and you will obtain new skills in data analysis and programming.\n",
    "\n",
    "## How does this exercise work?\n",
    "\n",
    "This exercise is a [Jupyter](https://jupyter.org/) notebook. A Jupyter notebook contains a mix of text blocks and [Python](https://www.python.org/) code blocks that you can run yourself. The text blocks are used to explain the data analysis workflow of this exercise. The data analysis itself is performed in blocks of Python code. The Python code blocks contain a mix of actual code and comments, which start with `#` and which describe what each line of code below does.\n",
    "\n",
    "[Python](https://www.python.org/) is a programming language that is relatively easy to learn. A progamming language is a instruction language for a computer to make it do things that we find useful, such as analyzing climate data for us. Thanks to its accessibility Python has become the most popular programming language in science.\n",
    "\n",
    "We will run this notebook in [Google Colab](https://colab.research.google.com/). Google Colab gives us the opportunity to run this notebook online and in a web browser, which is the easiest way to complete this exercise.\n",
    "\n",
    "Note: If you prefer not to use Google then you can also run this notebook on your own computer. This requires installing Python and Jupyter on your own machine. The easiest to get things running is to install the Python distribution Anaconda: https://www.anaconda.com/download/ (notice the odd preference for snake names in the Python world). This may require a bit more fiddling, but your instructors for this exercise are happy to help out.\n",
    "\n",
    "## Working with this Jupyter notebook\n",
    "\n",
    "Before you start, make a copy of this notebook by selecting `File` and one of the `Save a copy...` options. This is to make sure you work on your own copy of the notebook.\n",
    "\n",
    "You can run each block of code by selecting the block and pressing the run symbol on the left of the block, or by pressing shift-enter. Or you can select `runtime` and then `Run all` to run all code blocks, `Run after` to run the selected code block and all blocks that come afterwards, or `Run before` to run all code blocks before the code block that you have selected.\n",
    "\n",
    "## Assignments and handing in this exercise\n",
    "\n",
    "This exercise contains a number of assignments, where you either have to complete a code block, or write some text in a text block below the assignment. These assignments are marked clearly and numbered. You can hand in the assignments by modifying this notebook, downloading a copy as a .ipynb file, i.e., a jupyter notebook file, and handing in the completed notebook file on mitt.uib.\n",
    "\n",
    "Some assignments will ask you to write an answer in a text block. Please only add the answer in the clearly marked text block below these assignments, and do not create a new text block for the answer.\n",
    "\n",
    "\n",
    "## Getting help\n",
    "\n",
    "You will probably run into programming errors when tryin to answer the coding assignments in this notebook. The error messages will appear below the code block where the error occured. Try to first scroll through the error message to find the line of your code that generated the error. The error message also gives a description of the type of error, which however may often be a bit difficult to understand. There are a few ways to try to fix such programming errors:\n",
    "\n",
    "- First check if the other students at your table have had a similar error, and ask if and how they have solved it.\n",
    "- Look up the documentation of the command that you are using online for an explanation of what it does. For example the linear regression function that you will be using can be found here: https://docs.scipy.org/doc/scipy/reference/generated/scipy.stats.linregress.html Similar descriptions exist for all the python code that you will be using.\n",
    "- Copy paste the error message and the code line into copilot and ask it to explain why this error may occur and how it could be fixed.\n",
    "- Ask one of the lecturers. We are around and provide help for free of course. \n",
    "\n",
    "\n",
    "## Learning more\n",
    "\n",
    "Note that throughout this notebook we also provide links to papers or descriptions of data analysis methods or Python modules that you can read if you want to dive more into the earth science, data analysis and programming parts of this exercise."
   ]
  },
  {
   "cell_type": "markdown",
   "id": "d88bf204-b13c-4b18-8cf3-f1990600cbce",
   "metadata": {
    "id": "d88bf204-b13c-4b18-8cf3-f1990600cbce"
   },
   "source": [
    "## Section 1: Global historic temperature dataset <a name=\"data\"></a>\n",
    "\n",
    "### 1.1 Getting the dataset\n",
    "We will start by obtaining a dataset of the global average temperature from 1850 to present from https://berkeleyearth.org/data/. We will then use this dataset for our analyses. The dataset by going to the Berkeley Earth website:\n",
    "You can download the data here: [Land_and_Ocean_complete_mod.csv](https://raw.githubusercontent.com/ElcoLuijendijk/intro_earth_science_informatics/main/data/Land_and_Ocean_complete_mod.csv), which you can inspect using a text editor or Excel.\n",
    "\n",
    "If you would like to learn more about the processing of the data to estimate a global average temperature out of different data sources you can read this paper  by Rohde and Hausfather (2020): https://doi.org/10.5194/essd-12-3469-2020"
   ]
  },
  {
   "cell_type": "markdown",
   "id": "2e778a02-21a4-4470-98fa-d7c8434a0fc2",
   "metadata": {
    "id": "2e778a02-21a4-4470-98fa-d7c8434a0fc2"
   },
   "source": [
    "## Section 2: A first look at the global temperature data\n",
    "\n",
    "We will analyze the temperature data with the programming language Python (https://www.python.org/). We will explain all the code that is used for the analysis step by step."
   ]
  },
  {
   "cell_type": "markdown",
   "id": "e4554d23-3fff-4f8a-87e9-55c927431013",
   "metadata": {
    "id": "e4554d23-3fff-4f8a-87e9-55c927431013"
   },
   "source": [
    "### 2.1 Importing additional modules\n",
    "\n",
    "First we start by adding some additional modules of code that we need for the analysis. Python already has a lot of capabilities for analysis, but the programming language can be extended with additional modules for things like making nice figures, working with alrge datasets and better statistical analysis.\n",
    "\n",
    "Below we add three such modules, Numpy (https://numpy.org/), Pandas (https://pandas.pydata.org/) and Matplotlib (https://matplotlib.org/). Numpy is used for additional computation with large sets of data, Pandas makes reading, writing and working with large datasets much easier, and Matplotlib is great for making nice looking figures or animations (follow this link for some nice examples: https://matplotlib.org/stable/plot_types/index.html)."
   ]
  },
  {
   "cell_type": "code",
   "execution_count": null,
   "id": "fe5464ec-3c0d-488d-885b-09f3a802f692",
   "metadata": {
    "id": "fe5464ec-3c0d-488d-885b-09f3a802f692"
   },
   "outputs": [],
   "source": [
    "import numpy as np\n",
    "import pandas as pd\n",
    "import matplotlib.pyplot as pl"
   ]
  },
  {
   "cell_type": "markdown",
   "id": "3eff78fc-1476-4590-9f40-ed941a80dc5d",
   "metadata": {
    "id": "3eff78fc-1476-4590-9f40-ed941a80dc5d"
   },
   "source": [
    "### 2.2 Reading the global historic temperature datafile\n",
    "\n",
    "Next we will read the temperature datafile and display a summary of the data"
   ]
  },
  {
   "cell_type": "code",
   "execution_count": null,
   "id": "14ec3850-edbd-4716-a4cd-7af9c5f07f0f",
   "metadata": {
    "id": "14ec3850-edbd-4716-a4cd-7af9c5f07f0f"
   },
   "outputs": [],
   "source": [
    "# here we specify the name of the datafile.\n",
    "filename = \"https://raw.githubusercontent.com/ElcoLuijendijk/intro_earth_science_informatics/main/data/Land_and_Ocean_complete_mod.csv\"\n",
    "\n",
    "# load the datafile into an object called df (which is short for dataframe)\n",
    "df = pd.read_csv(filename)"
   ]
  },
  {
   "cell_type": "markdown",
   "id": "265204dd-ad7a-4e81-b1fd-341d8d87832d",
   "metadata": {
    "id": "265204dd-ad7a-4e81-b1fd-341d8d87832d"
   },
   "source": [
    "We can now show the contents of the datafile by simply typing the name of the dataset (``df``) in a code block, as you can see below:"
   ]
  },
  {
   "cell_type": "code",
   "execution_count": null,
   "id": "1e813215-48ca-4983-af31-cc3a2f764712",
   "metadata": {
    "id": "1e813215-48ca-4983-af31-cc3a2f764712"
   },
   "outputs": [],
   "source": [
    "df"
   ]
  },
  {
   "cell_type": "markdown",
   "id": "Qam2soilrNXx",
   "metadata": {
    "id": "Qam2soilrNXx"
   },
   "source": [
    "One way to have a quick summary of the contents of this datafile is the `.describe()` command, which will show you statistics for each column in the datafile as seen below:"
   ]
  },
  {
   "cell_type": "code",
   "execution_count": null,
   "id": "KhvAkjtirI2k",
   "metadata": {
    "id": "KhvAkjtirI2k"
   },
   "outputs": [],
   "source": [
    "df.describe()"
   ]
  },
  {
   "cell_type": "markdown",
   "id": "f466e289-2e1e-4093-929f-c4858af828b7",
   "metadata": {
    "id": "f466e289-2e1e-4093-929f-c4858af828b7"
   },
   "source": [
    "## Section 3: Visualizing the data <a name=\"visualizing\"></a>\n",
    "\n",
    "Next we will visualize the climate data using Python's nice visualization module [Matplotlib](https://matplotlib.org/). We will create a figure with one panel, and we will plot the temperature anomaly in this panel using the Python code in the next code block:"
   ]
  },
  {
   "cell_type": "code",
   "execution_count": null,
   "id": "3692d190-303b-443d-ba60-8b509892952e",
   "metadata": {
    "id": "3692d190-303b-443d-ba60-8b509892952e"
   },
   "outputs": [],
   "source": [
    "# make a new figure with one subplot. The figure is called fig, and the subplot is called ax\n",
    "# note that all commands that use matplotlib start with pl.\n",
    "# because we imported matplotlib's pyplot module as pl earlier\n",
    "fig, ax = pl.subplots(1, 1)\n",
    "\n",
    "# plot the monthly temperature anomaly\n",
    "ax.plot(df[\"monthly_anomaly\"], color=\"tab:blue\", linewidth=0.5)\n",
    "\n",
    "# add labels to the x and y axes\n",
    "ax.set_xlabel(\"Month\")\n",
    "ax.set_ylabel(\"Temperature anomaly (degr. C)\")"
   ]
  },
  {
   "cell_type": "markdown",
   "id": "567eba1a-6d7c-4d5b-9484-1da2135bda79",
   "metadata": {
    "id": "567eba1a-6d7c-4d5b-9484-1da2135bda79"
   },
   "source": [
    "### 3.1 Improving the global temperature anomaly figure\n",
    "\n",
    "This figure above is nice, but we can do better of course. We first would like to have real dates or years on the x-axis. Thankfully the Pandas module makes this easy and has a command ``date_range``  (see [this link](https://pandas.pydata.org/pandas-docs/stable/reference/api/pandas.date_range.html) for the optional extensive description of what this command can do) that helps us to add column with dates to the dataset. Execute the code block below to create an additional column called `date` that has a single value for each datapoint:"
   ]
  },
  {
   "cell_type": "code",
   "execution_count": null,
   "id": "a272fc97-c369-4768-88f1-6adcae720a0b",
   "metadata": {
    "id": "a272fc97-c369-4768-88f1-6adcae720a0b"
   },
   "outputs": [],
   "source": [
    "# detemrine the number of months in the entire dataset\n",
    "n_months = len(df)\n",
    "print(f\"There are {n_months} months in the dataset\")\n",
    "\n",
    "# find first year and the first months:\n",
    "# the first row of a dataframe can be called by df.iloc[0]\n",
    "first_year = int(df.iloc[0][\"year\"])\n",
    "first_month = int(df.iloc[0][\"month\"])\n",
    "\n",
    "print(f\"The first year is {first_year}, and the first month is {first_month}\")\n",
    "\n",
    "# create a date range from the first month to the last\n",
    "dti = pd.date_range(f\"{first_year}-{first_month}-01\", periods=n_months, freq=\"MS\")\n",
    "\n",
    "print(\"The date range in the datafile is :\", dti)\n",
    "\n",
    "# add a column with this date range to the dataframe\n",
    "print(\"adding this date range to the dataframe\")\n",
    "df[\"date\"] = dti"
   ]
  },
  {
   "cell_type": "markdown",
   "id": "WUnQpCXzqrMs",
   "metadata": {
    "id": "WUnQpCXzqrMs"
   },
   "source": [
    "Next we display the contents of the dataset again. If all went well there should be a column called `date` on the right hand side (scroll to the right after running the next code block to see it):"
   ]
  },
  {
   "cell_type": "code",
   "execution_count": null,
   "id": "f4af92f1-5bc6-4239-85a5-15d4454ea8ca",
   "metadata": {
    "id": "f4af92f1-5bc6-4239-85a5-15d4454ea8ca"
   },
   "outputs": [],
   "source": [
    "df"
   ]
  },
  {
   "cell_type": "markdown",
   "id": "8cc4d28c-38f4-4847-81c6-bcebeb9bb837",
   "metadata": {
    "id": "8cc4d28c-38f4-4847-81c6-bcebeb9bb837"
   },
   "source": [
    "Now we are ready to make a nicer figure with dates on the x-axis:"
   ]
  },
  {
   "cell_type": "code",
   "execution_count": null,
   "id": "7352ecb9-078b-4f87-b277-218978b8d0c6",
   "metadata": {
    "id": "7352ecb9-078b-4f87-b277-218978b8d0c6"
   },
   "outputs": [],
   "source": [
    "# make a new figure with one subplot. The figure is called fig, and the subplot is called ax\n",
    "# note that all commands that use matplotlib start with pl.\n",
    "# because we imported matplotlib's pyplot module as pl earlier\n",
    "fig, ax = pl.subplots(1, 1)\n",
    "\n",
    "# plot the monthly temperature anomaly, this time using real dates on the x-axis\n",
    "ax.plot(df[\"date\"], df[\"monthly_anomaly\"], color=\"tab:blue\", linewidth=0.5)\n",
    "\n",
    "# add a horizontal line at y=0\n",
    "ax.axhline(y=0, color=\"black\", lw=0.5)\n",
    "\n",
    "# add labels to the x and y axes\n",
    "ax.set_xlabel(\"Date\")\n",
    "ax.set_ylabel(\"Temperature anomaly (degr. C)\")"
   ]
  },
  {
   "cell_type": "markdown",
   "id": "8f9226fa-56cd-4b97-812e-0e22aea20222",
   "metadata": {
    "id": "8f9226fa-56cd-4b97-812e-0e22aea20222"
   },
   "source": [
    "## Section 4: Analysing trends in the global temperature data <a name=\"analysis\"></a>\n",
    "\n",
    "The temperature curve shows a strong increase in global temperature over the last decades.\n",
    "\n",
    "A natural question to ask is how fast does temperature increase? Can we quantify this?\n",
    "\n",
    "In the next part of this exercise we will try to fit a number of simple models to the data to see how well they can explain the temperatures on our planet."
   ]
  },
  {
   "cell_type": "markdown",
   "id": "9842e12c-3f98-4c14-af54-a7bde2378526",
   "metadata": {
    "id": "9842e12c-3f98-4c14-af54-a7bde2378526"
   },
   "source": [
    "### 4.1 Linear regression\n",
    "\n",
    "The first approach that we will follow here to analyse the data is applying a linear regression to the dataset. A linear regression tries to fit a line to the data that follows a simple equation in the shape of:\n",
    "\n",
    "$$y = ax + b$$\n",
    "\n",
    "In this case the variable $y$ is the temperature anomaly and variable $x$ would be time. Variables $a$ and $b$ determine the slope and intercept of the regression line. In a linear regression these two parameters are fitted so that the line runs through the data as close as possible. We will use a built in [linear regression function](https://docs.scipy.org/doc/scipy/reference/generated/scipy.stats.linregress.html) from the Python module [scipy](https://scipy.org/) in the code block below:"
   ]
  },
  {
   "cell_type": "code",
   "execution_count": null,
   "id": "79456913-855d-4006-9c07-c3da2afe52ac",
   "metadata": {
    "id": "79456913-855d-4006-9c07-c3da2afe52ac"
   },
   "outputs": [],
   "source": [
    "# import the scipy module that contain the linear regression function\n",
    "import scipy.stats as st\n",
    "\n",
    "# generate a new column with the month number\n",
    "df[\"month_number\"] = np.arange(len(df))\n",
    "\n",
    "# assigning the x and y variables for the regression\n",
    "x = df[\"month_number\"].values\n",
    "y = df[\"monthly_anomaly\"].values\n",
    "\n",
    "# perform the regression result\n",
    "regression_result = st.linregress(x, y)\n",
    "\n",
    "# print the results to screen\n",
    "print(\"The result of the linear regression between temperature and time is: \", regression_result)"
   ]
  },
  {
   "cell_type": "markdown",
   "id": "06de8a4d-f881-44fd-8888-fa79484c4b48",
   "metadata": {},
   "source": [
    "#### Accessing the results of the linear regression\n",
    "\n",
    "You can access the results of the linear regression by typing the following commands in an empty new code block:"
   ]
  },
  {
   "cell_type": "code",
   "execution_count": null,
   "id": "6a3e34eb-6059-4b4d-b960-bcc5ee924c86",
   "metadata": {},
   "outputs": [],
   "source": [
    "regression_result.slope"
   ]
  },
  {
   "cell_type": "code",
   "execution_count": null,
   "id": "dbfe1c34-a421-459b-a7ec-30972e22e9e7",
   "metadata": {},
   "outputs": [],
   "source": [
    "regression_result.intercept"
   ]
  },
  {
   "cell_type": "code",
   "execution_count": null,
   "id": "421a5663-5a5d-4f28-aa98-f787e4b57583",
   "metadata": {},
   "outputs": [],
   "source": [
    "regression_result.rvalue"
   ]
  },
  {
   "cell_type": "markdown",
   "id": "6c32414e-d60c-4a58-b4bb-73d56689e932",
   "metadata": {},
   "source": [
    "You can also do maths with these values, as shown below, where we calculate a new variable, which we call `test_value`"
   ]
  },
  {
   "cell_type": "code",
   "execution_count": null,
   "id": "c784a76f-e0d3-4fe2-a25f-af4fe916d808",
   "metadata": {},
   "outputs": [],
   "source": [
    "test_value = regression_result.slope * 2\n",
    "test_value"
   ]
  },
  {
   "cell_type": "markdown",
   "id": "d185f294-71c0-4edd-8c4d-7cc17af69397",
   "metadata": {},
   "source": [
    "For a review of how to calculate things in Python, see this website: [https://en.wikibooks.org/wiki/Python_Programming/Basic_Math](https://en.wikibooks.org/wiki/Python_Programming/Basic_Math), or look at your notes from the Python workshop. In short, adding things is done with +, multiplication using a star \\*"
   ]
  },
  {
   "cell_type": "markdown",
   "id": "fee4035c-dc6a-4f53-9f4d-d3dbab93867e",
   "metadata": {
    "id": "fee4035c-dc6a-4f53-9f4d-d3dbab93867e"
   },
   "source": [
    "### Plotting the regression line\n",
    "\n",
    "To make the results of the linear regression more visual we will make a figure where the regression line and the dataset are shown together:"
   ]
  },
  {
   "cell_type": "code",
   "execution_count": null,
   "id": "76820ef0-dcf7-4ba4-97a5-be9a27f997f7",
   "metadata": {
    "id": "76820ef0-dcf7-4ba4-97a5-be9a27f997f7"
   },
   "outputs": [],
   "source": [
    "# here we calculate the linear regression by multiplying the month number with the slope and adding the intercept:\n",
    "df[\"temperature_linear_model\"] = x * regression_result.slope + regression_result.intercept\n",
    "\n",
    "# make a label for the figure legend\n",
    "linregress_label = f\"linear regression, y={regression_result.intercept:0.2f} + {regression_result.slope:0.2e} x \\n\"\n",
    "linregress_label += fr\"$R^2$={regression_result.rvalue**2:0.3f}, p={regression_result.pvalue:0.3f}\"\n",
    "\n",
    "# make a new figure with one subplot. The figure is called fig, and the subplot is called ax\n",
    "# note that all commands that use matplotlib start with pl.\n",
    "# because we imported matplotlib's pyplot module as pl earlier\n",
    "fig, ax = pl.subplots(1, 1)\n",
    "\n",
    "# plot the monthly temperature anomaly, this time using real dates on the x-axis\n",
    "ax.plot(df[\"date\"], df[\"monthly_anomaly\"], color=\"tab:blue\", linewidth=0.5, label=\"global temperature anomaly\")\n",
    "\n",
    "# plot the linear regression\n",
    "ax.plot(df[\"date\"], df[\"temperature_linear_model\"], color=\"tab:orange\", linewidth=1.5, label=linregress_label)\n",
    "\n",
    "# add a horizontal line at y=0\n",
    "ax.axhline(y=0, color=\"black\", lw=0.5)\n",
    "\n",
    "# add a legend\n",
    "ax.legend()\n",
    "\n",
    "# add labels to the x and y axes\n",
    "ax.set_xlabel(\"Date\")\n",
    "ax.set_ylabel(\"Temperature anomaly (degr. C)\")"
   ]
  },
  {
   "cell_type": "markdown",
   "id": "18241ef0-1762-447e-894d-675968c11a1c",
   "metadata": {
    "id": "18241ef0-1762-447e-894d-675968c11a1c"
   },
   "source": [
    "### Evaluating the regression model\n",
    "\n",
    "\n",
    "The regression line above provides a reasonable, but not perfect fit to the data. The regression algorithm itself includes two metrics that we can use to judge how well this model fits the global temperature data:\n",
    "\n",
    "**p value and the null hypothesis**\n",
    "The variable `p` in the figure above denotes the p-value, which is the probability of the [null hypothesis](https://en.wikipedia.org/wiki/Null_hypothesis). The null hypothesis is the hypothesis that the effect that is being studied does not exist, and that the relation between two variables is due to chance only, i.e. is purely random. In this case, the null hypothesis tests whether or not the linear regression explains the relation between temperature and time. A probability of 1 shows that the null hypothesis is true, i.e. there is no linear correlation between time and temperature. In contrast, if the probability is 0.0 there is no probability that the null hypothesis is true, and the relation between the two cannot be random. In general a value of `p` that is less than 0.05 is accepted, because there is then a probability of less than 5% that the relation is due to chance.\n",
    "\n",
    "\n",
    "**The coefficient of determination $R^2$**\n",
    "The p-value provides information on whether or not there is a relation between the model that we are testing and the data, but it does not tell us how strong the relation is. Does it explain all of the data or are there still some unexplained trends or noise in the data? For this we need to look at a different metric, the [coefficient of determination](https://en.wikipedia.org/wiki/Coefficient_of_determination). A simple definition of the coefficient of determination is:\n",
    "\n",
    "$$R^2 = 1 - \\dfrac{\\text{unexplained variance}}{\\text{variance of the dataset}}$$\n",
    "\n",
    "As you can see from this definition the value of $R^2$ goes to 1.0 if all of the variance of the data can be explained by the model. And if the unexplained variance is equal to the variance of the dataset, the model is actually useless and $R^2$ equals 0.0. Getting a model prediction close to an $R^2$ of 1.0 is the goal of most models, but is rarely feasible in the earth sciences because there are often many different processes that affect geoscientific data and constructing a model that represents all processes well is often difficult.\n",
    "\n",
    "The R² values help us compare our models. If you are interested in more advanced model comparison techniques, see the optional Section 7 which covers different metrics used by researchers that also take into account how complex a model is."
   ]
  },
  {
   "cell_type": "markdown",
   "id": "d21b0fa0-6f57-418d-82ce-6fe4a0ab471b",
   "metadata": {
    "id": "d21b0fa0-6f57-418d-82ce-6fe4a0ab471b"
   },
   "source": [
    "# **ASSIGNMENT 4.1: Evaluate the linear regression model**\n",
    "\n",
    "**Based on the explanation above, write a few lines on how the regression model performs in your opinion. Write this in the text block below:**"
   ]
  },
  {
   "cell_type": "markdown",
   "id": "923d79a0-dbf1-4f92-884d-29790e7a5f30",
   "metadata": {
    "id": "923d79a0-dbf1-4f92-884d-29790e7a5f30"
   },
   "source": [
    "---\n",
    "***Add your answer to assignment 1 here (and only here, please do not create a new cell for this)....***\n",
    "\n",
    "---"
   ]
  },
  {
   "cell_type": "markdown",
   "id": "a367daac-c7e4-4d61-b43f-06b6909ec2bd",
   "metadata": {
    "id": "a367daac-c7e4-4d61-b43f-06b6909ec2bd"
   },
   "source": [
    "# **ASSIGNMENT 4.2: Predict future global temperature**\n",
    "\n",
    "The figure that we made earlier in this motebook is a nice way to communicate what is going on with global climate. But it would also be interesting to communicate some simple metrics like, on average the temperature increases by x per year, or if current trends continue the global temperature will be ... degrees C.\n",
    "\n",
    "*Your next task for this assignment is to complete the code below to calculate the average temperature increase per year, and the projected temperature in the year 2050.*\n",
    "\n",
    "Use the results of the linear regression that you completed in section 4.1 for the assignment below. `regression_result.slope` gives you the slope of the regression line, in degrees C per month, and `regression_result.intercept` gives you the temperature at the start of the temperature dataset, i.e., january 1850. \n",
    "\n",
    "In Python, adding things is done with +, multiplication using a star \\*\n",
    "\n",
    "For example, `y = a * x + b` will calculate a new variable `y` by multiplying `a` and `x`, and then adding `b`\n",
    "\n",
    "Step 1: Calculate the annual increase in temperature from the monthly increase in temperature that you calculated in the regression by multiplying the monthly increase with the number of months in a year\n",
    "\n",
    "Step 2: Use the new variable `annual_temp_increase` to calculate the temperature in year 2050 by multiplying `annual_temp_increase` with the number of years since the first datapoint, and adding the intercept, `regression_result.intercept`\n",
    "\n",
    "Step 3: Repeat the same for the year 2100\n"
   ]
  },
  {
   "cell_type": "code",
   "execution_count": null,
   "id": "d961b2fb-5790-486a-b0ea-3d73948bd9d0",
   "metadata": {
    "id": "d961b2fb-5790-486a-b0ea-3d73948bd9d0"
   },
   "outputs": [],
   "source": [
    "\n",
    "# Step 1: complete the line below by replacing the ... with an equation:\n",
    "annual_temp_increase = .....\n",
    "\n",
    "print(f\"The average increase in global temperature per year equals {annual_temp_increase} degrees C per year\")\n",
    "\n",
    "# Step 2: complete the line below to calculate the temperatures in the year 2050:\n",
    "temperature_in_2050 = .....\n",
    "\n",
    "# Step 3: Complete the line below to calculate the temperature in the year 2100:\n",
    "temperature_in_2100 = .....\n",
    "\n",
    "print(f\"The expected global temperature in the year 2050 is {temperature_in_2050} degrees C higher than the baseline\")\n",
    "print(f\"and the expected global temperature in the year 2100 is {temperature_in_2100} degrees C higher than the baseline\")"
   ]
  },
  {
   "cell_type": "markdown",
   "id": "42e04793",
   "metadata": {},
   "source": [
    "# **ASSIGNMENT 4.3: Discuss your temperature prediction for 2050 and 2100**\n",
    "\n",
    "**Search online for predictions of the global temperatures in the year 2050 and 2100. Discuss how close are your estimates and reasons why your numbers are different**\n"
   ]
  },
  {
   "cell_type": "markdown",
   "id": "5596c7ee",
   "metadata": {},
   "source": [
    "---\n",
    "***Add your answer here***\n",
    "\n",
    "---"
   ]
  },
  {
   "cell_type": "markdown",
   "id": "107a362b-da77-4810-b6d7-b3a6835ee1f7",
   "metadata": {
    "id": "107a362b-da77-4810-b6d7-b3a6835ee1f7"
   },
   "source": [
    "## Section 5: Finding a better model <a name=\"better_analysis\"></a>\n",
    "\n",
    "You may notice that the above linear regression curve does not fit the data that well. The increase in the last few decades seems faster than is indicated by the regression line, i.e. the blue curve that shows the data lies above the orange curve on the right hand side of the graph. Let's try to find a better model that can explain the data better."
   ]
  },
  {
   "cell_type": "markdown",
   "id": "e302abbf-738b-4851-8346-931242dc6795",
   "metadata": {
    "id": "e302abbf-738b-4851-8346-931242dc6795"
   },
   "source": [
    "### 5.1 Piecewise linear model\n",
    "\n",
    "We will first try a piecewise linear model. In contrast to a linear regression model, the piecewise linear model allows for several lines with different slopes. In principle it would not be difficult to code this ourselves. However to keep things easy, we will use a Python module that was especially made to work with piecewise linear models, called [pwlf](https://github.com/cjekel/piecewise_linear_fit_py).\n",
    "\n",
    "We first need to install the pwlf module, which is done with the line of code below:"
   ]
  },
  {
   "cell_type": "code",
   "execution_count": null,
   "id": "y9RyhoH2G8hM",
   "metadata": {
    "id": "y9RyhoH2G8hM"
   },
   "outputs": [],
   "source": [
    "%pip install pwlf"
   ]
  },
  {
   "cell_type": "markdown",
   "id": "71dP7d5rn4FX",
   "metadata": {
    "id": "71dP7d5rn4FX"
   },
   "source": [
    "If all went well you should have gotten a bunch of messages above, including the message `Successfully installed pwlf...`\n",
    "\n",
    "Now that we have installed pwlf, let's see what it can do. In the code block below we will use pwlf to fit a piecewise linear model with two segments to the data:"
   ]
  },
  {
   "cell_type": "code",
   "execution_count": null,
   "id": "81d30bc4-8a7f-485e-9365-a8a9530893ee",
   "metadata": {
    "id": "81d30bc4-8a7f-485e-9365-a8a9530893ee"
   },
   "outputs": [],
   "source": [
    "# https://github.com/cjekel/piecewise_linear_fit_py\n",
    "# https://github.com/cjekel/piecewise_linear_fit_py/blob/master/examples/fitForSpecifiedNumberOfLineSegments.py\n",
    "\n",
    "# import the piecewise linear function module\n",
    "import pwlf\n",
    "\n",
    "# set up the model\n",
    "my_pwlf = pwlf.PiecewiseLinFit(x, y)\n",
    "\n",
    "# fit the model to the data\n",
    "# change the number between brackets to change the number of line segments\n",
    "results_pwlf = my_pwlf.fit(2)\n",
    "\n",
    "# get the results\n",
    "#b, a = results_pwlf\n",
    "\n",
    "# get the predicted values\n",
    "df[\"temperature_piecewise_linear_model\"] = my_pwlf.predict(x)\n",
    "\n",
    "print(f\"The parameters for the fitted piecewise linear model are {my_pwlf.beta}\")\n",
    "\n",
    "# calculate the coefficient of determination (R2)\n",
    "import sklearn.metrics\n",
    "R2_pwlf = sklearn.metrics.r2_score(y, df[\"temperature_piecewise_linear_model\"])\n",
    "print(f\"the R2 score for the piecewise linear model is {R2_pwlf}\")\n"
   ]
  },
  {
   "cell_type": "markdown",
   "id": "0796a2b9-3859-4417-80e6-f3542ee2938e",
   "metadata": {
    "id": "0796a2b9-3859-4417-80e6-f3542ee2938e"
   },
   "source": [
    "\n",
    "Ok, now we have fitted the piecewise linear model to the global temperature data. However, the code above did not give us much information on what it did. To figure out what Python has done we still need to visualize the results and make a new figure.\n",
    "\n",
    "Since we will make similar figures a few time in this notebook we will first write a [*function*](https://docs.python.org/3/tutorial/controlflow.html#defining-functions) for the visualization of the results.\n",
    "\n",
    "Think of a Python function as a recipe in a cookbook. Just like a recipe outlines the steps to create a cake, a function defines a set of instructions to perform a specific task. You can call a function whenever you need to use those instructions and you don’t want to write them out step by step every time, similar to how you refer to a recipe when you want to bake a cake. Functions can also take ingredients (called parameters) and return a finished cake (the result). For example, if you bake a cake with apples, you will get an apple pie, but if you would use pears, you will get a pear pie, even though you follow the same steps. This is also how a function works. Depending on the parameters you put in, the output differs. Therefore you can keep using the function. This makes your code organized and reusable, much like how a cookbook helps you recreate your favorite dishes anytime.\n",
    "\n",
    "We will first run the first code block below to create the function, and then run the second code block to visualize the new model:\n"
   ]
  },
  {
   "cell_type": "code",
   "execution_count": null,
   "id": "a6deb25e-38b2-4db1-9af5-846655ee0207",
   "metadata": {
    "id": "a6deb25e-38b2-4db1-9af5-846655ee0207"
   },
   "outputs": [],
   "source": [
    "# the code below creates the function to visualize the results\n",
    "def temperature_figure(date, y_values, labels, lws=[0.5, 1.0, 1.0, 1.0, 1.0, 1.0]):\n",
    "    \"\"\"\n",
    "    This is a function to create a figure\n",
    "\n",
    "    defining this as a function has the advantage that this code can be reused easily later on in this notebook\n",
    "    \"\"\"\n",
    "\n",
    "    # get a color palette for the figure\n",
    "    colors = pl.cm.tab10.colors\n",
    "\n",
    "    # make a new figure with one subplot. The figure is called fig, and the subplot is called ax\n",
    "    # note that all commands that use matplotlib start with pl.\n",
    "    # because we imported matplotlib's pyplot module as pl earlier\n",
    "    fig, ax = pl.subplots(1, 1)\n",
    "\n",
    "    # go through all y_values passed to this function and plot each of these\n",
    "    for y_value, color, label, lw in zip(y_values, colors, labels, lws):\n",
    "        ax.plot(date, y_value, color=color, linewidth=lw, label=label)\n",
    "\n",
    "    # add a horizontal line at y=0\n",
    "    ax.axhline(y=0, color=\"black\", lw=0.5)\n",
    "\n",
    "    # add a legend\n",
    "    ax.legend()\n",
    "\n",
    "    # add labels to the x and y axes\n",
    "    ax.set_xlabel(\"Date\")\n",
    "    ax.set_ylabel(\"Temperature anomaly (degr. C)\")\n",
    "\n",
    "    # return the figure and subplot to the main code:\n",
    "    return fig, ax"
   ]
  },
  {
   "cell_type": "code",
   "execution_count": null,
   "id": "3d1ff973-a697-4d79-b15a-6f2bb24ea81c",
   "metadata": {
    "id": "3d1ff973-a697-4d79-b15a-6f2bb24ea81c"
   },
   "outputs": [],
   "source": [
    "# run the function to create a figure\n",
    "temperature_figure(df[\"date\"], [df[\"monthly_anomaly\"], df[\"temperature_linear_model\"], df[\"temperature_piecewise_linear_model\"]],\n",
    " [\"data\", \"linear regression\", \"piecewise linear function\"])"
   ]
  },
  {
   "cell_type": "markdown",
   "id": "51443e09-7f47-4983-8e51-e3e7aaaa9ff7",
   "metadata": {
    "id": "51443e09-7f47-4983-8e51-e3e7aaaa9ff7"
   },
   "source": [
    "### 5.2 Alternative models\n",
    "\n",
    "The piecewise linear model arguably does a much better job at fitting the data as you can see in the figure above. However, the piecewise linear model is not the only possible model that can explain the data. Another model that would allow for a stronger increase in temperatures over the last few decades is an powerlaw function. We will try to fit a [powerlaw](https://en.wikipedia.org/wiki/Power_law) function with the shape of:\n",
    "\n",
    "$$ y = a x^b + c$$\n",
    "\n",
    "For the linear regression model and the piecewise linear model we used specialized Python functions and libraries. However we can also use a more general approach using a [scipy](https://scipy.org/) command called [curve_fit](https://docs.scipy.org/doc/scipy/reference/generated/scipy.optimize.curve_fit.html). With the `curve_fit` command we can fit any equation or model to the data.\n",
    "\n",
    "Curve fit works by fitting a model that is contained in a separate Python function. The function `powerlaw_model` in the code block below takes in the variable `x` and an optional number of other variables (for instance `a`, `b` and `c`) and returns the predicted `y` value. In our case `x` represents time, in number of months since the start of the records, and `y_predicted` is the temperature predicted by the model.\n",
    "\n",
    "Run the code below to see if we can fit an powerlaw model to the data:"
   ]
  },
  {
   "cell_type": "code",
   "execution_count": null,
   "id": "d6a8dcab-0a7f-4e7b-a22a-7269a7a7a8ab",
   "metadata": {
    "id": "d6a8dcab-0a7f-4e7b-a22a-7269a7a7a8ab"
   },
   "outputs": [],
   "source": [
    "# import the curve_fit command from the scipy module\n",
    "from scipy.optimize import curve_fit\n",
    "\n",
    "# the next lines of code are a function that contains the exponential model.\n",
    "# The function takes in the variables x, a, b and c and returns the variable y_predicted\n",
    "def powerlaw_model(x, a, b, c):\n",
    "\n",
    "    #y_predicted = a**(b*x) + c\n",
    "    y_predicted = a*x**b + c\n",
    "\n",
    "    return y_predicted\n",
    "\n",
    "# define the starting values for the parameters. Curve_fit will find the parameter values that best fit the data but needs reasonable first estimates to get going:\n",
    "starting_parameters = [1e-3, 1e-2, -0.5]\n",
    "\n",
    "# fit the model to the data\n",
    "results_pl = curve_fit(powerlaw_model, x, y, starting_parameters)\n",
    "\n",
    "print(f\"Fitted parameters for the powerlaw model: a = {results_pl[0][0]}, b={results_pl[0][1]}, c={results_pl[0][2]}\")\n",
    "\n",
    "# get the fitted parameter values\n",
    "a_pl, b_pl, c_pl = results_pl[0]\n",
    "\n",
    "# calculate the predicted values of y\n",
    "df[\"temperature_powerlaw_model\"] = powerlaw_model(x, a_pl, b_pl, c_pl)\n",
    "\n",
    "R2_pl = sklearn.metrics.r2_score(y, df[\"temperature_powerlaw_model\"])\n",
    "\n",
    "print(f\"R2 powerlaw model = {R2_pl}\")\n",
    "\n",
    "# create a figure\n",
    "temperature_figure(df[\"date\"],\n",
    " [df[\"monthly_anomaly\"],\n",
    "  df[\"temperature_linear_model\"],\n",
    "  df[\"temperature_piecewise_linear_model\"],\n",
    "  df[\"temperature_powerlaw_model\"]],\n",
    " [\"data\", \"linear regression\", \"piecewise linear function\", \"powerlaw\"])"
   ]
  },
  {
   "cell_type": "markdown",
   "id": "b361d8ba",
   "metadata": {},
   "source": [
    "# **ASSIGNMENT 5.1 Evaluate temperature models**\n",
    "\n",
    "**Discuss below how well the different models fit the historic climate data by comparing the visual fit in the figures and the values of the coefficient of determination. Discuss to what extent you have proven that temperature increase has accellerated over the last decades and since when this accelaration started.**"
   ]
  },
  {
   "cell_type": "markdown",
   "id": "1cbd0c7a-a793-490b-a817-7fb735906999",
   "metadata": {
    "id": "1cbd0c7a-a793-490b-a817-7fb735906999"
   },
   "source": [
    "---\n",
    "***Add your answer here....***\n",
    "\n",
    "---"
   ]
  },
  {
   "cell_type": "markdown",
   "id": "yIrgoxVQL40t",
   "metadata": {
    "id": "yIrgoxVQL40t"
   },
   "source": [
    "# **ASSIGNMENT 5.2: Update your prediction of global temperature**\n",
    "\n",
    "The different models also generate different predictions of the temperature increase in the future. **Complete the code below to predict the global temperature in the year 2050 and 2100:**"
   ]
  },
  {
   "cell_type": "code",
   "execution_count": null,
   "id": "zKvYKJgKOe_8",
   "metadata": {
    "id": "zKvYKJgKOe_8"
   },
   "outputs": [],
   "source": [
    "# complete the lines below to calculate the temperatures in the year 2050 and 2100:\n",
    "# use the temperatures predicted by your favorite model\n",
    "\n",
    "# uncomment one of these lines to calculate the temperature in 2050\n",
    "# replace the number_of_months with the actual number of months since january 1850\n",
    "#temperature_in_2050_updated = my_pwlf.predict(number_of_months)\n",
    "#temperature_in_2050_updated = better_model(number_of_months, ab, bb, cb)\n",
    "\n",
    "# do the same for the temperature in the year 2100\n",
    "#temperature_in_2100_updated = .....\n",
    "\n",
    "print(f\"The expected global temperature in the year 2050 is {temperature_in_2050_updated} degrees C higher than the baseline\")\n",
    "print(f\"and the expected global temperature in the year 2100 is {temperature_in_2100_updated} degrees C higher than the baseline\")"
   ]
  },
  {
   "cell_type": "markdown",
   "id": "ygCBPKKqcRgy",
   "metadata": {
    "id": "ygCBPKKqcRgy"
   },
   "source": [
    "# **ASSIGNMENT 5.3: Comparison with published temperature predictions**\n",
    "\n",
    "**Compare the predicted temperatures in 2050 and 2100 with global temperature predicted by the The Intergovernmental Panel on Climate Change (IPCC) latest climate prediction, and write a few sentences on how your prediction compares to theirs, and to which emission scenario your prediction matches best. You can find the latest synthesis report here: https://www.ipcc.ch/report/ar6/syr/ , in the \"*Long Report*\" on page 65.**"
   ]
  },
  {
   "cell_type": "markdown",
   "id": "klkdiipyeSEC",
   "metadata": {
    "id": "klkdiipyeSEC"
   },
   "source": [
    "---\n",
    "***Add your answer here....***\n",
    "\n",
    "---"
   ]
  },
  {
   "cell_type": "markdown",
   "id": "ptWAvZEegRY6",
   "metadata": {
    "id": "ptWAvZEegRY6"
   },
   "source": [
    "## Section 6: Global temperature and $CO_2$\n",
    "\n",
    "For the final part of this exercise we will look at what causes part of the temperature trend that we have analysed above. For this we will have a look at a global dataset of $CO_2$ in the atmosphere.  \n",
    "\n",
    "The best data on $CO_2$ in the atmosphere are from the National Oceanic and Atmospheric Administration (NOAA), who have measured $CO_2$ in the atmosphere from atop a volcano in Hawaii since the 1960's: https://gml.noaa.gov/ccgg/trends/\n",
    "\n",
    "They have also compiled data from several station globally to calculate the global average $CO_2$ concentration since the 1980s, which can be viewed here: https://gml.noaa.gov/ccgg/trends/global.html\n",
    " and the data can be downloaded here: https://gml.noaa.gov/webdata/ccgg/trends/co2/co2_mm_gl.csv\n",
    "\n",
    "We will use this dataset to explore the relation between global temperature and $CO_2$."
   ]
  },
  {
   "cell_type": "markdown",
   "id": "b53e0644",
   "metadata": {},
   "source": []
  },
  {
   "cell_type": "markdown",
   "id": "wPPk4XmB-YUX",
   "metadata": {
    "id": "wPPk4XmB-YUX"
   },
   "source": [
    "### Obtaining the global atmospheric $CO_2$ data\n",
    "\n",
    "We start by downloading the data and having a look at its contents:"
   ]
  },
  {
   "cell_type": "code",
   "execution_count": null,
   "id": "Hfat5kGTuIsb",
   "metadata": {
    "id": "Hfat5kGTuIsb"
   },
   "outputs": [],
   "source": [
    "# the location of the temperature data file\n",
    "fnc = \"https://gml.noaa.gov/webdata/ccgg/trends/co2/co2_mm_gl.csv\"\n",
    "\n",
    "# read the datafile\n",
    "dfc = pd.read_csv(fnc, skiprows=38)\n",
    "\n",
    "# display teh contents of the file\n",
    "dfc"
   ]
  },
  {
   "cell_type": "markdown",
   "id": "qqQDzf7xpW-y",
   "metadata": {
    "id": "qqQDzf7xpW-y"
   },
   "source": [
    "### Creating date column for CO2 data\n",
    "Next we construct a new column in the datafile that contains the date for each measurements, similarly to what we have done for the temperature data file earlier:"
   ]
  },
  {
   "cell_type": "code",
   "execution_count": null,
   "id": "4kGuMKX5TAfu",
   "metadata": {
    "id": "4kGuMKX5TAfu"
   },
   "outputs": [],
   "source": [
    "# determine the number of months in the entire dataset\n",
    "n_months = len(dfc)\n",
    "\n",
    "# find first year and the first months:\n",
    "# the first row of a dataframe can be called by df.iloc[0]\n",
    "first_year = int(dfc.iloc[0][\"year\"])\n",
    "first_month = int(dfc.iloc[0][\"month\"])\n",
    "\n",
    "# create a date range from the first month to the last\n",
    "dti = pd.date_range(f\"{first_year}-{first_month}-01\", periods=n_months, freq=\"MS\")\n",
    "\n",
    "# add a column with this date range to the dataframe\n",
    "dfc[\"date\"] = dti"
   ]
  },
  {
   "cell_type": "markdown",
   "id": "1obIx5n759jO",
   "metadata": {
    "id": "1obIx5n759jO"
   },
   "source": [
    "### Visualizing global $CO_2$\n",
    "\n",
    "Now lets visualize the $CO_2$ data together with the temperature data:"
   ]
  },
  {
   "cell_type": "code",
   "execution_count": null,
   "id": "QA6SWlDR2HW0",
   "metadata": {
    "id": "QA6SWlDR2HW0"
   },
   "outputs": [],
   "source": [
    "fig, ax = temperature_figure(df[\"date\"],\n",
    " [df[\"monthly_anomaly\"],\n",
    "  df[\"temperature_linear_model\"],\n",
    "  df[\"temperature_piecewise_linear_model\"],\n",
    "  df[\"temperature_powerlaw_model\"]],\n",
    " [\"data\", \"linear regression\", \"piecewise linear function\", \"powerlaw model\"])\n",
    "\n",
    "axr = ax.twinx()\n",
    "\n",
    "axr.plot(dfc[\"date\"], dfc[\"average\"], color=\"black\", label=r\"$CO_2$\")\n",
    "\n",
    "axr.set_ylabel(r\"$CO_2$ (ppm)\")\n",
    "\n",
    "axr.set_ylim(225, 475)\n",
    "\n",
    "axr.legend()"
   ]
  },
  {
   "cell_type": "markdown",
   "id": "rzH9J-C66EMe",
   "metadata": {
    "id": "rzH9J-C66EMe"
   },
   "source": [
    "### The relation between $CO_2$ and temperature\n",
    "\n",
    "From the figure above it seems that the increase in temperature since 1980 coincides with an increase in $CO_2$. Lets have a closer look at the relation between $CO_2$ and temperature by plotting these two variables against each other. Before we can do this we first have to merge the two datasets that contain the temperature data (`df`) and the $CO_2$ data (`dfc`). Below we merge these two datasets into a new one that we call `dft`:"
   ]
  },
  {
   "cell_type": "code",
   "execution_count": null,
   "id": "HwNEn9C5UIyF",
   "metadata": {
    "id": "HwNEn9C5UIyF"
   },
   "outputs": [],
   "source": [
    "# create a new column\n",
    "dfc[\"average_CO2\"] = dfc[\"average\"]\n",
    "\n",
    "# merge the temperature and CO2 datasets into a new dataset\n",
    "dft = df.merge(dfc, on=\"date\")"
   ]
  },
  {
   "cell_type": "markdown",
   "id": "3paiPFYh6SXx",
   "metadata": {
    "id": "3paiPFYh6SXx"
   },
   "source": [
    "### Visualizing CO2 vs temperature relationship\n",
    "next, lets visualize the relation between global temperature and $CO_2$:"
   ]
  },
  {
   "cell_type": "code",
   "execution_count": null,
   "id": "aH2U374RUk3N",
   "metadata": {
    "id": "aH2U374RUk3N"
   },
   "outputs": [],
   "source": [
    "fig, ax = pl.subplots(1, 1)\n",
    "\n",
    "ax.scatter(dft[\"average_CO2\"], dft[\"monthly_anomaly\"])\n",
    "\n",
    "ax.set_xlabel(r\"$CO_2$ (ppm)\")\n",
    "ax.set_ylabel(r\"Temperature anomaly\")"
   ]
  },
  {
   "cell_type": "markdown",
   "id": "oZo4dh0j8tcb",
   "metadata": {
    "id": "oZo4dh0j8tcb"
   },
   "source": [
    "### Quantifying the relation between global $CO_2$ and temperature\n",
    "\n",
    "The figure above show a positive correlation between temperature and $CO_2$. This is of course not entirely unexpected, because the greenhouse properties of $CO_2$ have already been known since 1896, as documented by [an article by the Swedish scientist Svante Arrhenius](https://www.tandfonline.com/doi/epdf/10.1080/14786449608620846?needAccess=true). Let's see if we can quantify this relation a bit better by running a linear regression between $CO_2$ and temperature:"
   ]
  },
  {
   "cell_type": "code",
   "execution_count": null,
   "id": "L3OxkejgU8ng",
   "metadata": {
    "id": "L3OxkejgU8ng"
   },
   "outputs": [],
   "source": [
    "# perform a linear regression\n",
    "regr_CO2 = st.linregress(dft[\"average_CO2\"].values, dft[\"monthly_anomaly\"].values)\n",
    "\n",
    "# display the results\n",
    "print(regr_CO2)\n",
    "\n",
    "# calculate the regression line\n",
    "rlx = np.linspace(dft[\"average_CO2\"].min(), dft[\"average_CO2\"].max(), 101)\n",
    "rly = rlx * regr_CO2.slope + regr_CO2.intercept\n",
    "\n",
    "# make a new figure\n",
    "fig, ax = pl.subplots(1, 1)\n",
    "\n",
    "# show the data\n",
    "ax.scatter(dft[\"average_CO2\"], dft[\"monthly_anomaly\"])\n",
    "\n",
    "# add the regression line\n",
    "ax.plot(rlx, rly, color=\"black\", lw=1.5)\n",
    "\n",
    "ax.set_xlabel(r\"$CO_2$ (ppm)\")\n",
    "ax.set_ylabel(r\"Temperature anomaly\")"
   ]
  },
  {
   "cell_type": "markdown",
   "id": "7OyMfcSX_JZQ",
   "metadata": {
    "id": "7OyMfcSX_JZQ"
   },
   "source": [
    "### Creating temperature model based on CO2\n",
    "Next we will use this linear relation to make a new model of global temperature:"
   ]
  },
  {
   "cell_type": "code",
   "execution_count": null,
   "id": "jUfgkwrqG2qI",
   "metadata": {
    "id": "jUfgkwrqG2qI"
   },
   "outputs": [],
   "source": [
    "# calculate global temperature based on the linear regression with CO2\n",
    "dft[\"temperature_CO2_model\"] = dft[\"average_CO2\"] * regr_CO2.slope + regr_CO2.intercept\n",
    "\n",
    "# calculate the R2 for the CO2 model\n",
    "R2_CO2 = sklearn.metrics.r2_score(dft[\"monthly_anomaly\"], dft[\"temperature_CO2_model\"])\n",
    "print(f\"R2 CO2 model = {R2_CO2}\")\n",
    "\n",
    "# create a figure\n",
    "fig, ax = temperature_figure(df[\"date\"],\n",
    " [df[\"monthly_anomaly\"],\n",
    "  df[\"temperature_linear_model\"],\n",
    "  df[\"temperature_piecewise_linear_model\"],\n",
    "  df[\"temperature_powerlaw_model\"]],\n",
    " [\"data\", \"linear regression\", \"piecewise linear function\", \"powerlaw model\"])\n",
    "\n",
    "# add our new temperate model\n",
    "ax.plot(dft[\"date\"], dft[\"temperature_CO2_model\"], color=\"black\", label=r\"$CO_2$ model\")\n",
    "\n",
    "# update the legend:\n",
    "ax.legend()"
   ]
  },
  {
   "cell_type": "markdown",
   "id": "Tr03FYWfClt9",
   "metadata": {
    "id": "Tr03FYWfClt9"
   },
   "source": [
    "# **ASSIGNMENT 6.1: Evaluating our new global temperature model**\n",
    "\n",
    "Our new global temperature model looks quite good, but let's quantify how well it does compared to our earlier models by again calculating the coefficient of determination (R2) as we have done before.\n",
    "\n",
    "**Complete the code block below to calculate R2 for all the models that we have tried before. However this time use the merged dataframe `dft` instead of the temperature only dataframe `df` for the tests.**\n",
    "\n",
    "The reason we need to do this is that the $CO_2$ model only runs from 1980 onward. And comparing its performance with the other models would be unfair if the other models are evaluated against a much longer temperature record."
   ]
  },
  {
   "cell_type": "code",
   "execution_count": null,
   "id": "2oc4p6iGCpFS",
   "metadata": {
    "id": "2oc4p6iGCpFS"
   },
   "outputs": [],
   "source": [
    "print(f\"The R2 value for the CO2 model: {R2_CO2}\")\n",
    "\n",
    "# add R2 for the other models here by copy-pasting code from\n",
    "# elsewhere in this notebook. \n",
    "# replace the names model1 and model2 with the actual names of the models\n",
    "# R2_model1 = ...\n",
    "# R2_model2 = ...\n",
    "\n",
    "# The next lines print the R2 values for the other models\n",
    "# replace the names <model 1> and <model 2> with the actual names of the models below:\n",
    "print(\"The R2 values for the other models are: \")\n",
    "print(\"<model 1> \", R2_model1)\n",
    "print(\"<model 2> \", R2_model2)"
   ]
  },
  {
   "cell_type": "markdown",
   "id": "9F3ZzqoDHMTc",
   "metadata": {
    "id": "9F3ZzqoDHMTc"
   },
   "source": [
    "# **ASSIGNMENT 6.2: Which model do you prefer?**\n",
    "\n",
    "**Write a few sentences on which model you prefer after this new evaluation and why you prefer this model. You can discuss how well the models fit the data, how many parameters they need, and how well they represent reality**"
   ]
  },
  {
   "cell_type": "markdown",
   "id": "8835r6zFHVSc",
   "metadata": {
    "id": "8835r6zFHVSc"
   },
   "source": [
    "---\n",
    "***Add your answer here...***\n",
    "\n",
    "---"
   ]
  },
  {
   "cell_type": "markdown",
   "id": "C7hg4ksaNhLi",
   "metadata": {
    "id": "C7hg4ksaNhLi"
   },
   "source": [
    "# **ASSIGNMENT 6.3: Climate sensitivity**\n",
    "\n",
    "In the analysis of $CO_2$ and temperature you have actually calculated an important metric of climate change called *[climate sensitivity](https://en.wikipedia.org/wiki/Climate_sensitivity)*. This is the increase in temperature expected for a doubling of atmospheric $CO_2$ from the pre-industrial level of 280 ppm. \n",
    "\n",
    "**Calculate climate sensitivity and discuss the results following the steps below:**\n",
    "\n",
    "* Use the linear regression line of $CO_2$ vs temperature that you completed earlier in this section to calculate climate sensitivity, by calculating the temperature at 280 ppm CO2, and at 560 ppm CO2\n",
    "* Write down your estimate of climate sensitivity below and how you derived this answer\n",
    "* Discuss how your answer compares to the climate sensitivty reported in the latest IPCC report.** This can be found in the latest technical summary report, on page 94, https://www.ipcc.ch/report/ar6/wg1/chapter/technical-summary/.\n",
    "\n"
   ]
  },
  {
   "cell_type": "markdown",
   "id": "bMZLxeE7Of6r",
   "metadata": {
    "id": "bMZLxeE7Of6r"
   },
   "source": [
    "---\n",
    "***Add your answer here....***\n",
    "\n",
    "---"
   ]
  },
  {
   "cell_type": "markdown",
   "id": "2efea49c",
   "metadata": {},
   "source": [
    "## Optional advanced section 7: Which models are good and which is best?\n",
    "\n",
    "We now have several different models to quantify the long-term trend in the global temperature data. Each model has a different $R^2$ value. At first sight we might be tempted to simply select the model with the highest $R^2$ value as the best model. However this is not entirely a fair way of selecting the best model. Imagine if we had used the piecewise linear model, but had increased the amount of segments to 1000. After a lot of number crunching the algorithm would come up with a near perfect model, where almost every temperature datapoint has its own line segment that overlies each datapoint. This model will obviously have a very high $R^2$ that would be close to 1.0, because it fits the data perfectly. It however also requires a 1000 input parameter values. And its value in predicting future warming may be very limited, because these 1000 parameters are exactly tuned to the data but may not capture the processes that cause the warming very well. Such a model is a case of a model that is *overfitted* (https://en.wikipedia.org/wiki/Overfitting).\n",
    "\n",
    "Form a science philosophy viewpoint, scientific models and theories should follow Occam's razor (https://en.wikipedia.org/wiki/Occam%27s_razor), which is usually summarized as \"The simplest explanation is usually the best one\". Or in our case, the model with the least unnecessary assumptions is the best one. Therefore, we should in principle select the simplest model that fits the data well, i.e. a good model with a low number of parameters. However this raises a question which model should be rated best, the simple linear regression with just two parameters, but a poor fit to the data, or a more complex model with more parameters, but a better fit?\n",
    "\n",
    "To avoid overfitting we can resort to alternative metrics that take into account the complexity of a model. We will use two metrics here, the [Akaike information criterion](https://en.wikipedia.org/wiki/Akaike_information_criterion) or AIC and the [Bayesian information criterion](https://en.wikipedia.org/wiki/Bayesian_information_criterion) or BIC. Both AIC and BIC take into account the model error or residual, i.e., how far off the model is from the data, and the number of parameters that a model requires.\n",
    "\n",
    "The Akaike information criterion is calculated as follows:\n",
    "\n",
    "$$AIC = N \\ln \\left( \\dfrac{RSS}{N} \\right)+ 2 K$$\n",
    "\n",
    "where $N$ is the number of observations or datapoints, $K$ is the number of parameters and $RSS$ is the sum of the squared residuals, which is calculated by comparing each datapoint to the model prediction, squaring this and then summing all squared residuals:\n",
    "\n",
    "$$RSS = \\sum{(y_p - y)^2}$$\n",
    "\n",
    "Where $y_p$ is the value predicted by the model and $y$ is the actual data. The Bayesian information criterion is calculated in a similar way, but with a slightly different weighing of the importance of the number of parameters vs the model error:\n",
    "\n",
    "$$BIC = N \\ln \\left( \\dfrac{RSS}{N} \\right)+ \\sqrt{N} K$$\n",
    "\n",
    "The BIC metric tends to assign a higher importance to the number of parameters (K) in most cases, because $\\sqrt{N}$ is usually higher than 2. For both metrics the model that has the lowest AIC or BIC score is the best, because both a high model error (RSS) or a high number of parameters (K) increase the score.\n",
    "\n",
    "Feel free to use either of these two metrics in the rest of this exercise. There is an ongoing debate in the statistics community on which one is better, but for now it seems a matter of personal preference. If you want to read more about this you can check [this paper by Ding et al. (2018)](https://ieeexplore.ieee.org/abstract/document/8498082) (which is addmittedly not the easiest paper to read)."
   ]
  },
  {
   "cell_type": "markdown",
   "id": "2f2ea6e9",
   "metadata": {},
   "source": [
    "# **ASSIGNMENT 7.1 (optional): Quantifying model performance**\n",
    "\n",
    "Let's see how our model compare with these two new metrics. **First, complete the code below to test all the models that you have constructed so far:**"
   ]
  },
  {
   "cell_type": "code",
   "execution_count": null,
   "id": "2d17e570",
   "metadata": {},
   "outputs": [],
   "source": [
    "def AIC(data, prediction, number_of_params):\n",
    "\n",
    "    N = len(data)\n",
    "\n",
    "    RSS = np.sum((data - prediction)**2)\n",
    "\n",
    "    K = number_of_params\n",
    "\n",
    "    AIC= N * np.log(RSS / N) + 2 * K\n",
    "\n",
    "    return AIC\n",
    "\n",
    "\n",
    "def BIC(data, prediction, number_of_params):\n",
    "\n",
    "    N = len(data)\n",
    "\n",
    "    RSS = np.sum((data - prediction)**2)\n",
    "\n",
    "    K = number_of_params\n",
    "\n",
    "    BIC= N * np.log(RSS / N) + np.log(N) * K\n",
    "\n",
    "    return BIC"
   ]
  },
  {
   "cell_type": "code",
   "execution_count": null,
   "id": "c2a60314",
   "metadata": {},
   "outputs": [],
   "source": [
    "AIC_linear = AIC(df[\"monthly_anomaly\"], df[\"temperature_linear_model\"], 2)\n",
    "BIC_linear = BIC(df[\"monthly_anomaly\"], df[\"temperature_linear_model\"], 2)\n",
    "print(f\"AIC for the linear regression: {AIC_linear}\")\n",
    "print(f\"BIC for the linear regression: {BIC_linear}\")\n",
    "\n",
    "AIC_pwlf = AIC(df[\"monthly_anomaly\"], df[\"temperature_piecewise_linear_model\"], 3)\n",
    "BIC_pwlf = BIC(df[\"monthly_anomaly\"], df[\"temperature_piecewise_linear_model\"], 3)\n",
    "print(f\"AIC for the piecewise linear model: {AIC_pwlf}\")\n",
    "print(f\"BIC for the piecewise linear model: {BIC_pwlf}\")\n",
    "\n",
    "# add code to evaluate the other models that you have constructed below:\n",
    "# AIC... = ....\n",
    "# BIC... = ...\n"
   ]
  },
  {
   "cell_type": "markdown",
   "id": "7f764a6d",
   "metadata": {},
   "source": [
    "# **ASSIGNMENT 7.2 (optional): Model selection**\n",
    "\n",
    "**Write a few sentences on which model you would have chosen 1) subjectively, without looking at metrics, 2) based on $R^2$ and 3) based on AIC and/or BIC and 4) your final favorite model. Motivate your choices. Note: there is no right or wrong here, any choice that is well motivated will be accepted.**"
   ]
  },
  {
   "cell_type": "markdown",
   "id": "d52326c6",
   "metadata": {},
   "source": [
    "---\n",
    "***Add your answer here....***\n",
    "\n",
    "---"
   ]
  },
  {
   "cell_type": "markdown",
   "id": "bc2ef30b",
   "metadata": {},
   "source": [
    "# Done\n",
    "\n",
    "Congrats, you finished the first exercise! We hope you enjoyed it. In this exercise you learned basic data visualisation and data analysis skills for timeseries data. In the process you have also learned something about historic climate change and $CO_2$. Now you are ready to move on to working with climate data that goes much further back in time and that covers the last 65 million years of our planet's history. This will be the topic of next week's exercise."
   ]
  }
 ],
 "metadata": {
  "colab": {
   "provenance": []
  },
  "kernelspec": {
   "display_name": "Python 3 (ipykernel)",
   "language": "python",
   "name": "python3"
  },
  "language_info": {
   "codemirror_mode": {
    "name": "ipython",
    "version": 3
   },
   "file_extension": ".py",
   "mimetype": "text/x-python",
   "name": "python",
   "nbconvert_exporter": "python",
   "pygments_lexer": "ipython3",
   "version": "3.13.2"
  }
 },
 "nbformat": 4,
 "nbformat_minor": 5
}
